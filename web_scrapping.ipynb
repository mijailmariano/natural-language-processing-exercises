{
 "cells": [
  {
   "cell_type": "markdown",
   "metadata": {},
   "source": [
    "### ``Exercises: NLP Acquire/Web Scrapping``\n",
    "\n",
    "    30AUGUST2022\n",
    "\n",
    "----"
   ]
  },
  {
   "cell_type": "code",
   "execution_count": 217,
   "metadata": {},
   "outputs": [],
   "source": [
    "# notebook dependencies \n",
    "import os # for caching purposeses\n",
    "import pandas as pd\n",
    "import numpy as np\n",
    "\n",
    "# visualization imports\n",
    "import matplotlib.pyplot as plt\n",
    "import seaborn as sns\n",
    "sns.set()\n",
    "\n",
    "# regular expression import\n",
    "import re\n",
    "\n",
    "# importing BeautifulSoup for parsing HTML/XTML\n",
    "from bs4 import BeautifulSoup\n",
    "\n",
    "# request module for connecting to APIs\n",
    "from requests import get"
   ]
  },
  {
   "cell_type": "markdown",
   "metadata": {},
   "source": [
    "#### ``Exercise Number 1: Web Scrapping -- Codeup Blog Articles``\n",
    "\n",
    "**<u>``Prompt:``</u>**\n",
    "\n",
    "* Visit Codeup's Blog and record the urls for at least 5 distinct blog posts. \n",
    "\n",
    "* For each post, you should scrape at least the post's title and content.\n",
    "\n",
    "* Encapsulate your work in a function named get_blog_articles that will return a list of dictionaries:\n",
    "\n",
    "    - With each dictionary representing one article. The shape of each dictionary should look like this:\n",
    "\n",
    ">{\n",
    "    'title': 'the title of the article',\\\n",
    "    'content': 'the full text content of the article'\n",
    "}\n",
    "\n",
    "\n",
    "- Plus any additional properties you think might be helpful"
   ]
  },
  {
   "cell_type": "code",
   "execution_count": 218,
   "metadata": {},
   "outputs": [
    {
     "name": "stdout",
     "output_type": "stream",
     "text": [
      "url: https://codeup.com/blog/\n"
     ]
    }
   ],
   "source": [
    "# let's connect to the Codeup url/domain\n",
    "\n",
    "domain = 'https://codeup.com'\n",
    "endpoint = '/blog/'\n",
    "\n",
    "# creating the url\n",
    "url = domain + endpoint\n",
    "\n",
    "# creating the response element/object (including headers)\n",
    "# note: some websites don't accept the pyhon-requests default user-agent\n",
    "headers = {'User-Agent': 'Codeup Data Science'} \n",
    "response = get(url, headers = headers)\n",
    "\n",
    "print(f'url: {url}')"
   ]
  },
  {
   "cell_type": "code",
   "execution_count": 219,
   "metadata": {},
   "outputs": [
    {
     "data": {
      "text/plain": [
       "requests.models.Response"
      ]
     },
     "execution_count": 219,
     "metadata": {},
     "output_type": "execute_result"
    }
   ],
   "source": [
    "# checking the response object/type\n",
    "\n",
    "type(response)"
   ]
  },
  {
   "cell_type": "code",
   "execution_count": 220,
   "metadata": {},
   "outputs": [
    {
     "data": {
      "text/plain": [
       "bs4.BeautifulSoup"
      ]
     },
     "execution_count": 220,
     "metadata": {},
     "output_type": "execute_result"
    }
   ],
   "source": [
    "# let's use the BeautifulSoup module to create an HTML object\n",
    "\n",
    "soup = BeautifulSoup(response.content, 'html.parser')\n",
    "type(soup)"
   ]
  },
  {
   "cell_type": "markdown",
   "metadata": {},
   "source": [
    "**``Beautiful Soup Methods and Properties``**\n",
    "\n",
    "* ``soup.title.string`` gets the page's title (the same text in the browser tab for a page, this is the title element\n",
    "\n",
    "* ``soup.prettify()`` is useful to print in case you want to see the HTML\n",
    "\n",
    "* ``soup.find_all(\"a\")`` find all the anchor tags, or whatever argument is specified.\n",
    "\n",
    "* ``soup.find(\"h1\")`` finds the first matching element\n",
    "\n",
    "* ``soup.get_text()`` gets the text from within a matching piece of soup/HTML\n",
    "\n",
    "* The ``soup.select()`` method takes in a CSS selector as a string and returns all matching elements. super useful"
   ]
  },
  {
   "cell_type": "code",
   "execution_count": 221,
   "metadata": {},
   "outputs": [
    {
     "data": {
      "text/plain": [
       "[<a href=\"https://codeup.com/data-science/recession-proof-career/\">Is a Career in Tech Recession-Proof?</a>,\n",
       " <a href=\"https://codeup.com/featured/series-part-3-web-development/\">What Jobs Can You Get After a Coding Bootcamp? Part 3: Web Development</a>,\n",
       " <a href=\"https://codeup.com/featured/what-jobs-can-you-get-after-a-coding-bootcamp-part-2-cloud-administration/\">What Jobs Can You Get After a Coding Bootcamp? Part 2: Cloud Administration</a>,\n",
       " <a href=\"https://codeup.com/data-science/jobs-after-a-coding-bootcamp-part-1-data-science/\">What Jobs Can You Get After a Coding Bootcamp? Part 1: Data Science</a>,\n",
       " <a href=\"https://codeup.com/data-science/recession-proof-career/\">Is a Career in Tech Recession-Proof?</a>,\n",
       " <a href=\"https://codeup.com/codeup-news/codeup-x-comic-con/\">Codeup X Superhero Car Show &amp; Comic Con</a>,\n",
       " <a href=\"https://codeup.com/featured/series-part-3-web-development/\">What Jobs Can You Get After a Coding Bootcamp? Part 3: Web Development</a>,\n",
       " <a href=\"https://codeup.com/codeup-news/codeup-dallas-campus/\">Codeup’s New Dallas Campus</a>,\n",
       " <a href=\"https://codeup.com/codeup-news/codeup-tv-commercial/\">Codeup TV Commercial</a>,\n",
       " <a href=\"https://codeup.com/featured/what-jobs-can-you-get-after-a-coding-bootcamp-part-2-cloud-administration/\">What Jobs Can You Get After a Coding Bootcamp? Part 2: Cloud Administration</a>,\n",
       " <a href=\"https://codeup.com/data-science/jobs-after-a-coding-bootcamp-part-1-data-science/\">What Jobs Can You Get After a Coding Bootcamp? Part 1: Data Science</a>,\n",
       " <a href=\"https://codeup.com/workshops/san-antonio/in-person-workshop-learn-to-code-javascript-on-7-26/\">In-Person Workshop: Learn to Code – JavaScript on 7/26</a>,\n",
       " <a href=\"https://codeup.com/workshops/in-person-workshop-learn-to-code-python-on-7-19/\">In-Person Workshop: Learn to Code – Python on 7/19</a>,\n",
       " <a href=\"https://codeup.com/workshops/dallas/free-javascript-workshop-at-codeup-dallas-on-6-28/\">Free JavaScript Workshop at Codeup Dallas on 6/28</a>,\n",
       " <a href=\"https://codeup.com/tips-for-prospective-students/is-our-cloud-administration-program-right-for-you/\">Is Our Cloud Administration Program Right for You?</a>,\n",
       " <a href=\"https://codeup.com/workshops/pride-in-tech-panel/\">PRIDE in Tech Panel</a>,\n",
       " <a href=\"https://codeup.com/codeup-news/inclusion-at-codeup-during-pride-month-and-always/\">Inclusion at Codeup During Pride Month (and Always)</a>,\n",
       " <a href=\"https://codeup.com/tips-for-prospective-students/mental-health-first-aid-training/\">Mental Health First Aid Training</a>,\n",
       " <a href=\"https://codeup.com/workshops/codeup-dallas-how-to-succeed-at-a-coding-bootcamp-on-june-9th/\">Codeup Dallas: How to Succeed at a Coding Bootcamp on June 9th</a>,\n",
       " <a href=\"https://codeup.com/featured/5-reasons-to-attend-our-new-cloud-administration-program/\">5 Reasons To Attend Our New Cloud Administration Program</a>,\n",
       " <a href=\"https://codeup.com/workshops/learn-to-code-python-on-5-21/\">Learn to Code: Python on 5/21</a>,\n",
       " <a href=\"https://codeup.com/dallas-newsletter/codeup-dallas-joins-career-day/\">Codeup Dallas Joins Career Day</a>]"
      ]
     },
     "execution_count": 221,
     "metadata": {},
     "output_type": "execute_result"
    }
   ],
   "source": [
    "# in looking at the Codeup blog page, i notice the article titles at the 'h2 <a href = ' attribute level\n",
    "# i can use the select method to hit this attribute and return back all text tagged as such\n",
    "\n",
    "soup.select('h2 a[href]') # checks out!"
   ]
  },
  {
   "cell_type": "code",
   "execution_count": 222,
   "metadata": {},
   "outputs": [
    {
     "data": {
      "text/plain": [
       "'https://codeup.com/data-science/recession-proof-career/'"
      ]
     },
     "execution_count": 222,
     "metadata": {},
     "output_type": "execute_result"
    }
   ],
   "source": [
    "# what if we just want a single title or link?\n",
    "\n",
    "url = soup.select('h2 a[href]')[0]['href'] # this is the link, what about the title?\n",
    "url"
   ]
  },
  {
   "cell_type": "code",
   "execution_count": 223,
   "metadata": {},
   "outputs": [
    {
     "data": {
      "text/plain": [
       "[<a href=\"https://codeup.com/data-science/recession-proof-career/\">Is a Career in Tech Recession-Proof?</a>,\n",
       " <a href=\"https://codeup.com/featured/series-part-3-web-development/\">What Jobs Can You Get After a Coding Bootcamp? Part 3: Web Development</a>,\n",
       " <a href=\"https://codeup.com/featured/what-jobs-can-you-get-after-a-coding-bootcamp-part-2-cloud-administration/\">What Jobs Can You Get After a Coding Bootcamp? Part 2: Cloud Administration</a>,\n",
       " <a href=\"https://codeup.com/data-science/jobs-after-a-coding-bootcamp-part-1-data-science/\">What Jobs Can You Get After a Coding Bootcamp? Part 1: Data Science</a>,\n",
       " <a href=\"https://codeup.com/data-science/recession-proof-career/\">Is a Career in Tech Recession-Proof?</a>,\n",
       " <a href=\"https://codeup.com/codeup-news/codeup-x-comic-con/\">Codeup X Superhero Car Show &amp; Comic Con</a>,\n",
       " <a href=\"https://codeup.com/featured/series-part-3-web-development/\">What Jobs Can You Get After a Coding Bootcamp? Part 3: Web Development</a>,\n",
       " <a href=\"https://codeup.com/codeup-news/codeup-dallas-campus/\">Codeup’s New Dallas Campus</a>,\n",
       " <a href=\"https://codeup.com/codeup-news/codeup-tv-commercial/\">Codeup TV Commercial</a>,\n",
       " <a href=\"https://codeup.com/featured/what-jobs-can-you-get-after-a-coding-bootcamp-part-2-cloud-administration/\">What Jobs Can You Get After a Coding Bootcamp? Part 2: Cloud Administration</a>,\n",
       " <a href=\"https://codeup.com/data-science/jobs-after-a-coding-bootcamp-part-1-data-science/\">What Jobs Can You Get After a Coding Bootcamp? Part 1: Data Science</a>,\n",
       " <a href=\"https://codeup.com/workshops/san-antonio/in-person-workshop-learn-to-code-javascript-on-7-26/\">In-Person Workshop: Learn to Code – JavaScript on 7/26</a>,\n",
       " <a href=\"https://codeup.com/workshops/in-person-workshop-learn-to-code-python-on-7-19/\">In-Person Workshop: Learn to Code – Python on 7/19</a>,\n",
       " <a href=\"https://codeup.com/workshops/dallas/free-javascript-workshop-at-codeup-dallas-on-6-28/\">Free JavaScript Workshop at Codeup Dallas on 6/28</a>,\n",
       " <a href=\"https://codeup.com/tips-for-prospective-students/is-our-cloud-administration-program-right-for-you/\">Is Our Cloud Administration Program Right for You?</a>,\n",
       " <a href=\"https://codeup.com/workshops/pride-in-tech-panel/\">PRIDE in Tech Panel</a>,\n",
       " <a href=\"https://codeup.com/codeup-news/inclusion-at-codeup-during-pride-month-and-always/\">Inclusion at Codeup During Pride Month (and Always)</a>,\n",
       " <a href=\"https://codeup.com/tips-for-prospective-students/mental-health-first-aid-training/\">Mental Health First Aid Training</a>,\n",
       " <a href=\"https://codeup.com/workshops/codeup-dallas-how-to-succeed-at-a-coding-bootcamp-on-june-9th/\">Codeup Dallas: How to Succeed at a Coding Bootcamp on June 9th</a>,\n",
       " <a href=\"https://codeup.com/featured/5-reasons-to-attend-our-new-cloud-administration-program/\">5 Reasons To Attend Our New Cloud Administration Program</a>,\n",
       " <a href=\"https://codeup.com/workshops/learn-to-code-python-on-5-21/\">Learn to Code: Python on 5/21</a>,\n",
       " <a href=\"https://codeup.com/dallas-newsletter/codeup-dallas-joins-career-day/\">Codeup Dallas Joins Career Day</a>]"
      ]
     },
     "execution_count": 223,
     "metadata": {},
     "output_type": "execute_result"
    }
   ],
   "source": [
    "# what if we want just the links to iterate through?\n",
    "\n",
    "urls = soup.select('h2 a[href]')[:]\n",
    "type(urls)\n",
    "urls"
   ]
  },
  {
   "cell_type": "code",
   "execution_count": 224,
   "metadata": {},
   "outputs": [
    {
     "data": {
      "text/plain": [
       "'https://codeup.com/data-science/recession-proof-career/'"
      ]
     },
     "execution_count": 224,
     "metadata": {},
     "output_type": "execute_result"
    }
   ],
   "source": [
    "urls[0]['href']"
   ]
  },
  {
   "cell_type": "code",
   "execution_count": 225,
   "metadata": {},
   "outputs": [
    {
     "data": {
      "text/html": [
       "<div>\n",
       "<style scoped>\n",
       "    .dataframe tbody tr th:only-of-type {\n",
       "        vertical-align: middle;\n",
       "    }\n",
       "\n",
       "    .dataframe tbody tr th {\n",
       "        vertical-align: top;\n",
       "    }\n",
       "\n",
       "    .dataframe thead th {\n",
       "        text-align: right;\n",
       "    }\n",
       "</style>\n",
       "<table border=\"1\" class=\"dataframe\">\n",
       "  <thead>\n",
       "    <tr style=\"text-align: right;\">\n",
       "      <th></th>\n",
       "      <th>article_title</th>\n",
       "      <th>publish_date</th>\n",
       "      <th>contents</th>\n",
       "    </tr>\n",
       "  </thead>\n",
       "  <tbody>\n",
       "    <tr>\n",
       "      <th>0</th>\n",
       "      <td>Codeup X Superhero Car Show &amp; Comic Con</td>\n",
       "      <td>Aug 10, 2022</td>\n",
       "      <td>Codeup had a blast at the San Antonio Superher...</td>\n",
       "    </tr>\n",
       "    <tr>\n",
       "      <th>1</th>\n",
       "      <td>Is a Career in Tech Recession-Proof?</td>\n",
       "      <td>Aug 12, 2022</td>\n",
       "      <td>Given the current economic climate, many econo...</td>\n",
       "    </tr>\n",
       "    <tr>\n",
       "      <th>2</th>\n",
       "      <td>Is a Career in Tech Recession-Proof?</td>\n",
       "      <td>Aug 12, 2022</td>\n",
       "      <td>Given the current economic climate, many econo...</td>\n",
       "    </tr>\n",
       "    <tr>\n",
       "      <th>3</th>\n",
       "      <td>What Jobs Can You Get After a Coding Bootcamp?...</td>\n",
       "      <td>Aug 2, 2022</td>\n",
       "      <td>If you’re considering a career in web developm...</td>\n",
       "    </tr>\n",
       "    <tr>\n",
       "      <th>4</th>\n",
       "      <td>What Jobs Can You Get After a Coding Bootcamp?...</td>\n",
       "      <td>Aug 2, 2022</td>\n",
       "      <td>If you’re considering a career in web developm...</td>\n",
       "    </tr>\n",
       "    <tr>\n",
       "      <th>5</th>\n",
       "      <td>What Jobs Can You Get After a Coding Bootcamp?...</td>\n",
       "      <td>Jul 14, 2022</td>\n",
       "      <td>Have you been considering a career in Cloud Ad...</td>\n",
       "    </tr>\n",
       "    <tr>\n",
       "      <th>6</th>\n",
       "      <td>What Jobs Can You Get After a Coding Bootcamp?...</td>\n",
       "      <td>Jul 14, 2022</td>\n",
       "      <td>Have you been considering a career in Cloud Ad...</td>\n",
       "    </tr>\n",
       "    <tr>\n",
       "      <th>7</th>\n",
       "      <td>Codeup TV Commercial</td>\n",
       "      <td>Jul 20, 2022</td>\n",
       "      <td>Codeup has officially made its TV debut! Our c...</td>\n",
       "    </tr>\n",
       "    <tr>\n",
       "      <th>8</th>\n",
       "      <td>Codeup’s New Dallas Campus</td>\n",
       "      <td>Jul 25, 2022</td>\n",
       "      <td>Codeup’s Dallas campus has a new location! For...</td>\n",
       "    </tr>\n",
       "    <tr>\n",
       "      <th>9</th>\n",
       "      <td>In-Person Workshop: Learn to Code – JavaScript...</td>\n",
       "      <td>Jul 6, 2022</td>\n",
       "      <td>Join us for our live in-person JavaScript cras...</td>\n",
       "    </tr>\n",
       "    <tr>\n",
       "      <th>10</th>\n",
       "      <td>What Jobs Can You Get After a Coding Bootcamp?...</td>\n",
       "      <td>Jul 7, 2022</td>\n",
       "      <td>If you are interested in embarking on a career...</td>\n",
       "    </tr>\n",
       "    <tr>\n",
       "      <th>11</th>\n",
       "      <td>What Jobs Can You Get After a Coding Bootcamp?...</td>\n",
       "      <td>Jul 7, 2022</td>\n",
       "      <td>If you are interested in embarking on a career...</td>\n",
       "    </tr>\n",
       "    <tr>\n",
       "      <th>12</th>\n",
       "      <td>Inclusion at Codeup During Pride Month (and Al...</td>\n",
       "      <td>Jun 1, 2022</td>\n",
       "      <td>Happy Pride Month! Pride Month is a dedicated ...</td>\n",
       "    </tr>\n",
       "    <tr>\n",
       "      <th>13</th>\n",
       "      <td>Free JavaScript Workshop at Codeup Dallas on 6/28</td>\n",
       "      <td>Jun 19, 2022</td>\n",
       "      <td>Event Info: \\nLocation – Codeup Dallas\\nTime –...</td>\n",
       "    </tr>\n",
       "    <tr>\n",
       "      <th>14</th>\n",
       "      <td>In-Person Workshop: Learn to Code – Python on ...</td>\n",
       "      <td>Jun 20, 2022</td>\n",
       "      <td>According to LinkedIn, the “#1 Most Promising ...</td>\n",
       "    </tr>\n",
       "    <tr>\n",
       "      <th>15</th>\n",
       "      <td>PRIDE in Tech Panel</td>\n",
       "      <td>Jun 5, 2022</td>\n",
       "      <td>In celebration of PRIDE month, join our Codeup...</td>\n",
       "    </tr>\n",
       "    <tr>\n",
       "      <th>16</th>\n",
       "      <td>Is Our Cloud Administration Program Right for ...</td>\n",
       "      <td>Jun 8, 2022</td>\n",
       "      <td>Changing careers can be scary. The first thing...</td>\n",
       "    </tr>\n",
       "    <tr>\n",
       "      <th>17</th>\n",
       "      <td>Learn to Code: Python on 5/21</td>\n",
       "      <td>May 16, 2022</td>\n",
       "      <td>According to LinkedIn, the “#1 Most Promising ...</td>\n",
       "    </tr>\n",
       "    <tr>\n",
       "      <th>18</th>\n",
       "      <td>Codeup Dallas Joins Career Day</td>\n",
       "      <td>May 16, 2022</td>\n",
       "      <td>Last week our Codeup Dallas team participated ...</td>\n",
       "    </tr>\n",
       "    <tr>\n",
       "      <th>19</th>\n",
       "      <td>5 Reasons To Attend Our New Cloud Administrati...</td>\n",
       "      <td>May 17, 2022</td>\n",
       "      <td>Come Work In The Cloud\\nWhen your Monday rolls...</td>\n",
       "    </tr>\n",
       "    <tr>\n",
       "      <th>20</th>\n",
       "      <td>Codeup Dallas: How to Succeed at a Coding Boot...</td>\n",
       "      <td>May 23, 2022</td>\n",
       "      <td>This event is the perfect opportunity for peop...</td>\n",
       "    </tr>\n",
       "    <tr>\n",
       "      <th>21</th>\n",
       "      <td>Mental Health First Aid Training</td>\n",
       "      <td>May 31, 2022</td>\n",
       "      <td>As a student of Codeup, going through a massiv...</td>\n",
       "    </tr>\n",
       "  </tbody>\n",
       "</table>\n",
       "</div>"
      ],
      "text/plain": [
       "                                        article_title  publish_date  \\\n",
       "0             Codeup X Superhero Car Show & Comic Con  Aug 10, 2022   \n",
       "1                Is a Career in Tech Recession-Proof?  Aug 12, 2022   \n",
       "2                Is a Career in Tech Recession-Proof?  Aug 12, 2022   \n",
       "3   What Jobs Can You Get After a Coding Bootcamp?...   Aug 2, 2022   \n",
       "4   What Jobs Can You Get After a Coding Bootcamp?...   Aug 2, 2022   \n",
       "5   What Jobs Can You Get After a Coding Bootcamp?...  Jul 14, 2022   \n",
       "6   What Jobs Can You Get After a Coding Bootcamp?...  Jul 14, 2022   \n",
       "7                                Codeup TV Commercial  Jul 20, 2022   \n",
       "8                          Codeup’s New Dallas Campus  Jul 25, 2022   \n",
       "9   In-Person Workshop: Learn to Code – JavaScript...   Jul 6, 2022   \n",
       "10  What Jobs Can You Get After a Coding Bootcamp?...   Jul 7, 2022   \n",
       "11  What Jobs Can You Get After a Coding Bootcamp?...   Jul 7, 2022   \n",
       "12  Inclusion at Codeup During Pride Month (and Al...   Jun 1, 2022   \n",
       "13  Free JavaScript Workshop at Codeup Dallas on 6/28  Jun 19, 2022   \n",
       "14  In-Person Workshop: Learn to Code – Python on ...  Jun 20, 2022   \n",
       "15                                PRIDE in Tech Panel   Jun 5, 2022   \n",
       "16  Is Our Cloud Administration Program Right for ...   Jun 8, 2022   \n",
       "17                      Learn to Code: Python on 5/21  May 16, 2022   \n",
       "18                     Codeup Dallas Joins Career Day  May 16, 2022   \n",
       "19  5 Reasons To Attend Our New Cloud Administrati...  May 17, 2022   \n",
       "20  Codeup Dallas: How to Succeed at a Coding Boot...  May 23, 2022   \n",
       "21                   Mental Health First Aid Training  May 31, 2022   \n",
       "\n",
       "                                             contents  \n",
       "0   Codeup had a blast at the San Antonio Superher...  \n",
       "1   Given the current economic climate, many econo...  \n",
       "2   Given the current economic climate, many econo...  \n",
       "3   If you’re considering a career in web developm...  \n",
       "4   If you’re considering a career in web developm...  \n",
       "5   Have you been considering a career in Cloud Ad...  \n",
       "6   Have you been considering a career in Cloud Ad...  \n",
       "7   Codeup has officially made its TV debut! Our c...  \n",
       "8   Codeup’s Dallas campus has a new location! For...  \n",
       "9   Join us for our live in-person JavaScript cras...  \n",
       "10  If you are interested in embarking on a career...  \n",
       "11  If you are interested in embarking on a career...  \n",
       "12  Happy Pride Month! Pride Month is a dedicated ...  \n",
       "13  Event Info: \\nLocation – Codeup Dallas\\nTime –...  \n",
       "14  According to LinkedIn, the “#1 Most Promising ...  \n",
       "15  In celebration of PRIDE month, join our Codeup...  \n",
       "16  Changing careers can be scary. The first thing...  \n",
       "17  According to LinkedIn, the “#1 Most Promising ...  \n",
       "18  Last week our Codeup Dallas team participated ...  \n",
       "19  Come Work In The Cloud\\nWhen your Monday rolls...  \n",
       "20  This event is the perfect opportunity for peop...  \n",
       "21  As a student of Codeup, going through a massiv...  "
      ]
     },
     "execution_count": 225,
     "metadata": {},
     "output_type": "execute_result"
    }
   ],
   "source": [
    "# with the links accessible, i can hit the needed articles to extract more data\n",
    "\n",
    "container = []\n",
    "\n",
    "# let's extract all articles in the Codeup blog post website\n",
    "for url in range(len(urls)):\n",
    "\n",
    "    # extracting the article url from Codeup blog urls\n",
    "    article_url = urls[url]['href']\n",
    "\n",
    "    # creating the response object (Article Website)\n",
    "    response = get(article_url, headers = headers)\n",
    "\n",
    "    # create the soup object\n",
    "    soup = BeautifulSoup(response.content, 'html.parser')\n",
    "\n",
    "    # extract the title\n",
    "    title = soup.find('h1', class_ = \"entry-title\").text\n",
    "    \n",
    "    # extract the publish date\n",
    "    published = soup.find('span', class_ = \"published\").text.strip()\n",
    "    \n",
    "    # extract article body\n",
    "    contents = soup.find('div', class_ = 'entry-content').text.strip()\n",
    "\n",
    "    # create dictionary that holds article contents\n",
    "    article_dict = { \n",
    "        \"article_title\": title,\n",
    "        \"publish_date\": published,\n",
    "        \"contents\": contents\n",
    "    }\n",
    "\n",
    "    # append article dictionary to the container list\n",
    "    container.append(article_dict)\n",
    "\n",
    "articles = pd.DataFrame(container).sort_values(\"publish_date\").reset_index(drop = True)\n",
    "articles\n",
    "\n",
    "# notes to self:\n",
    "# when creating a function that pulls information at scale, ensure the headers, tags, or required labeling of information is consistent and accurate"
   ]
  },
  {
   "cell_type": "code",
   "execution_count": 226,
   "metadata": {},
   "outputs": [
    {
     "data": {
      "text/plain": [
       "'In-Person Workshop: Learn to Code – JavaScript on 7/26'"
      ]
     },
     "execution_count": 226,
     "metadata": {},
     "output_type": "execute_result"
    }
   ],
   "source": [
    "# sample title extraction code\n",
    "\n",
    "# create the blog url\n",
    "url = 'https://codeup.com/blog/'\n",
    "\n",
    "# include the headers\n",
    "headers = {'User-Agent': 'Codeup Data Science'} \n",
    "\n",
    "#create the response object\n",
    "response1 = get(url, headers = headers)\n",
    "\n",
    "# first soup\n",
    "soup1 = BeautifulSoup(response1.content, 'html.parser')\n",
    "\n",
    "# hit the blog domain and retrieve article link\n",
    "link_url = soup1.select('h2 a[href]')[counter][\"href\"]\n",
    "\n",
    "response2 = get(link_url, headers = headers)\n",
    "\n",
    "# new soup object\n",
    "soup2 = BeautifulSoup(response2.content, 'html.parser')\n",
    "\n",
    "soup2.find('h1', class_ = \"entry-title\").text # checks out!"
   ]
  },
  {
   "cell_type": "code",
   "execution_count": 227,
   "metadata": {},
   "outputs": [
    {
     "data": {
      "text/plain": [
       "'Jul 6, 2022'"
      ]
     },
     "execution_count": 227,
     "metadata": {},
     "output_type": "execute_result"
    }
   ],
   "source": [
    "# extracting the published date\n",
    "\n",
    "published_date = soup2.find('span', class_ = \"published\").text.strip() # checks out!\n",
    "published_date"
   ]
  },
  {
   "cell_type": "code",
   "execution_count": 228,
   "metadata": {},
   "outputs": [
    {
     "data": {
      "text/plain": [
       "'Join us for our live in-person JavaScript crash course, where we will dig into one of the fastest-growing languages in the software development industry. It’s free and open to all – you don’t need to have any previous programming knowledge to participate. \\nBy the end of the presentation, you will:\\n\\nHave a good understanding of what programming means\\nKnow what JavaScript is and how it’s used\\nThe best part: we will get our hands dirty writing some JavaScript. \\n\\nDon’t worry…we’ll walk you through every step. Come learn to code live with our very own instructor staff. Maybe this will be your jumpstart into an exciting and in-demand career…for FREE! \\nMust be 18+ to participate. \\nParking is free on Tuesdays in downtown San Antonio.'"
      ]
     },
     "execution_count": 228,
     "metadata": {},
     "output_type": "execute_result"
    }
   ],
   "source": [
    "# extract article/blog contents \n",
    "\n",
    "soup2.find('div', class_ = 'entry-content').text.strip() # checks out!"
   ]
  },
  {
   "cell_type": "markdown",
   "metadata": {},
   "source": [
    "----\n",
    "#### ``Exercise Number 2: News Articles``\n",
    "\n",
    "We will now be scraping text data from inshorts, a website that provides a brief overview of many different topics.\n",
    "\n",
    "Write a function that scrapes the news articles for the following topics:\n",
    "\n",
    "* Business\n",
    "* Sports\n",
    "* Technology\n",
    "* Entertainment\n",
    "\n",
    "\n",
    "``The end product of this should be a function named get_news_articles that returns a list of dictionaries, where each dictionary has this shape:``\n",
    "\n",
    ">{\n",
    "'title': 'The article title',\\\n",
    "'content': 'The article content',\\\n",
    "'category': 'business' # for example\n",
    "}\n"
   ]
  },
  {
   "cell_type": "code",
   "execution_count": 242,
   "metadata": {},
   "outputs": [
    {
     "data": {
      "text/plain": [
       "requests.models.Response"
      ]
     },
     "execution_count": 242,
     "metadata": {},
     "output_type": "execute_result"
    }
   ],
   "source": [
    "# let's check out the initial site\n",
    "\n",
    "url = 'https://inshorts.com/en/read/business'\n",
    "\n",
    "response = get(url)\n",
    "type(response)"
   ]
  },
  {
   "cell_type": "code",
   "execution_count": 243,
   "metadata": {},
   "outputs": [
    {
     "data": {
      "text/plain": [
       "<Response [200]>"
      ]
     },
     "execution_count": 243,
     "metadata": {},
     "output_type": "execute_result"
    }
   ],
   "source": [
    "# what's in the object\n",
    "\n",
    "response # successful connection"
   ]
  },
  {
   "cell_type": "code",
   "execution_count": 244,
   "metadata": {},
   "outputs": [
    {
     "data": {
      "text/plain": [
       "bs4.BeautifulSoup"
      ]
     },
     "execution_count": 244,
     "metadata": {},
     "output_type": "execute_result"
    }
   ],
   "source": [
    "# creating a beautifulsoup object and exploring the site further\n",
    "\n",
    "soup = BeautifulSoup(response.content, 'html.parser')\n",
    "type(soup) # object type checks out!"
   ]
  },
  {
   "cell_type": "code",
   "execution_count": 283,
   "metadata": {},
   "outputs": [
    {
     "data": {
      "text/plain": [
       "\"Adani Transmission becomes India's 8th most valued company\""
      ]
     },
     "execution_count": 283,
     "metadata": {},
     "output_type": "execute_result"
    }
   ],
   "source": [
    "# what's in the read page of inshorts: looking at one title\n",
    "\n",
    "soup.find('span', itemprop = 'headline').text"
   ]
  },
  {
   "cell_type": "code",
   "execution_count": 285,
   "metadata": {},
   "outputs": [
    {
     "data": {
      "text/plain": [
       "[<span itemprop=\"headline\">Adani Transmission becomes India's 8th most valued company</span>,\n",
       " <span itemprop=\"headline\">Musk cites whistleblower's claims in new notice as reason to end Twitter deal</span>,\n",
       " <span itemprop=\"headline\">No plan to rebrand Zomato app to Eternal: CEO Deepinder Goyal</span>,\n",
       " <span itemprop=\"headline\">Cancelling AC, first-class confirmed train tickets to now attract 5% GST</span>,\n",
       " <span itemprop=\"headline\">China arrests over 230 people tied to its largest-ever bank fraud of $5.8 billion</span>,\n",
       " <span itemprop=\"headline\">Bank of India files insolvency plea with NCLT against Future Lifestyle Fashions</span>,\n",
       " <span itemprop=\"headline\">Mukesh Ambani lays succession plan; allots Retail to Isha &amp; energy to Anant</span>,\n",
       " <span itemprop=\"headline\">We need to use more oil &amp; gas, not less, otherwise civilisation will crumble: Musk</span>,\n",
       " <span itemprop=\"headline\">BSE Sensex jumps over 1,000 pts to trade above 59,000, Nifty tops 17,600</span>,\n",
       " <span itemprop=\"headline\">Nazara Technologies acquires US-based WildWorks for $10.4 million</span>,\n",
       " <span itemprop=\"headline\">Most of crypto still junk: JP Morgan's digital assets division head</span>,\n",
       " <span itemprop=\"headline\">Indonesia's GoTo seeks to raise $1 billion via convertible bonds: Report</span>,\n",
       " <span itemprop=\"headline\">EV firm Lucid files mixed shelf offering of up to $8 bn</span>,\n",
       " <span itemprop=\"headline\">Axis Bank looking to acquire 10% stake in Go Digit: Report</span>,\n",
       " <span itemprop=\"headline\">China to lift economy by stabilising employment in H2: Ministry</span>,\n",
       " <span itemprop=\"headline\">Iran advances with uranium enrichment programme at Natanz: Report</span>,\n",
       " <span itemprop=\"headline\">China's biggest property developer reports 96% fall in profit</span>,\n",
       " <span itemprop=\"headline\">Govt may invite bids for BEML privatisation in Dec quarter: Official</span>,\n",
       " <span itemprop=\"headline\">Tamilnad Mercantile Bank to open IPO on Sept 5 at ₹500-525 apiece</span>,\n",
       " <span itemprop=\"headline\">Govt likely to invite financial bids for Shipping Corp sale in Q4</span>,\n",
       " <span itemprop=\"headline\">Sensex surges 1,564 points, Nifty above 17,750 at closing bell </span>,\n",
       " <span itemprop=\"headline\">Average pay of Nifty50 firm chiefs rose to ₹28.4 cr in FY22: Reports</span>,\n",
       " <span itemprop=\"headline\">RBI plans setting up new registry to keep check on bank fraud</span>,\n",
       " <span itemprop=\"headline\">BLS International's shares surge 18% a day after Nomura buys stake</span>,\n",
       " <span itemprop=\"headline\">India Inc Q1 revenue up by 39% due to input cost hike: Report </span>]"
      ]
     },
     "execution_count": 285,
     "metadata": {},
     "output_type": "execute_result"
    }
   ],
   "source": [
    "# ok, but can we get all the tiles? using the find_all() method\n",
    "\n",
    "soup.find_all('span', itemprop = 'headline') # checks out"
   ]
  },
  {
   "cell_type": "code",
   "execution_count": 286,
   "metadata": {},
   "outputs": [
    {
     "data": {
      "text/plain": [
       "25"
      ]
     },
     "execution_count": 286,
     "metadata": {},
     "output_type": "execute_result"
    }
   ],
   "source": [
    "# notes to self: use the find_all() method and iterate through these\n",
    "# ensure that the total numner of titles matches the total number of authors, publish date, content, etc. \n",
    "# 25 articles on the Business page\n",
    "\n",
    "len(soup.find_all('span', itemprop = 'headline'))"
   ]
  },
  {
   "cell_type": "code",
   "execution_count": 308,
   "metadata": {},
   "outputs": [
    {
     "data": {
      "text/plain": [
       "50"
      ]
     },
     "execution_count": 308,
     "metadata": {},
     "output_type": "execute_result"
    }
   ],
   "source": [
    "# extracting the author \n",
    "# reminder that class is a reserved python word, so must use 'class_' to specify html tag\n",
    "# here! i see that there can be multiple authors on one single blog; makes sense!\n",
    "\n",
    "len(soup.find_all('span', class_ = 'author'))"
   ]
  },
  {
   "cell_type": "code",
   "execution_count": 289,
   "metadata": {},
   "outputs": [
    {
     "data": {
      "text/plain": [
       "25"
      ]
     },
     "execution_count": 289,
     "metadata": {},
     "output_type": "execute_result"
    }
   ],
   "source": [
    "# what about content blurbs/paragraphas\n",
    "# checks out! 25 articles and 25 titles\n",
    "\n",
    "len(soup.find_all('div', itemprop = 'articleBody'))"
   ]
  },
  {
   "cell_type": "code",
   "execution_count": 353,
   "metadata": {},
   "outputs": [
    {
     "data": {
      "text/plain": [
       "True"
      ]
     },
     "execution_count": 353,
     "metadata": {},
     "output_type": "execute_result"
    }
   ],
   "source": [
    "# understanding the contents object\n",
    "\n",
    "contents = soup.find_all('div', itemprop = 'articleBody')\n",
    "range(len(contents))"
   ]
  },
  {
   "cell_type": "code",
   "execution_count": 362,
   "metadata": {},
   "outputs": [],
   "source": [
    "# creating the news article function\n",
    "\n",
    "def get_news_articles(website_url):\n",
    "\n",
    "    # create the unique response object\n",
    "    response = get(website_url)\n",
    "\n",
    "    # create the soup object\n",
    "    soup = BeautifulSoup(response.content, 'html.parser')\n",
    "\n",
    "    # creating a list of titles/headlines to iterate throug\n",
    "    titles = soup.find_all('span', itemprop = 'headline')\n",
    "\n",
    "    dates = soup.find_all('span', class_ = 'date')\n",
    "\n",
    "    sources = soup.find_all('a', class_ = 'source')\n",
    "\n",
    "    authors = soup.find_all('span', class_ = 'author')\n",
    "\n",
    "    contents = soup.find_all('div', itemprop = 'articleBody')\n",
    "\n",
    "    # creating a container list to hold article contents in\n",
    "    container = []\n",
    "\n",
    "    # iterate through the total number of headlines on website\n",
    "    for num in range(len(titles)):\n",
    "        \n",
    "        published = dates[num].text\n",
    "\n",
    "        title = titles[num].text\n",
    "\n",
    "        author = authors[num].text\n",
    "\n",
    "        content = contents[num].text\n",
    "        \n",
    "        '''IF Statement to handle instances where there is not a source.\n",
    "        This code can probably be written more efficiently and/or across all collected attributes.'''\n",
    "        \n",
    "        if num in range(len(sources)):\n",
    "\n",
    "                source = sources[num].text\n",
    "\n",
    "        else: \n",
    "\n",
    "            source = None\n",
    "            \n",
    "        # creating a dictionary to save the articles contents\n",
    "        article_dict = { \n",
    "            \n",
    "            'publish_date': published, \n",
    "            'source': source, \n",
    "            'title': title,\n",
    "            'authors': author,\n",
    "            'content': content\n",
    "        }\n",
    "\n",
    "        # append to container list\n",
    "        container.append(article_dict)\n",
    "    \n",
    "    # creating a dataframe from all scrapped articles\n",
    "    article_df = pd.DataFrame(container)\n",
    "\n",
    "    # printing the dataframe shape\n",
    "    print(f'dataframe shape: {article_df.shape}')\n",
    "\n",
    "    return article_df"
   ]
  },
  {
   "cell_type": "code",
   "execution_count": 357,
   "metadata": {},
   "outputs": [
    {
     "name": "stdout",
     "output_type": "stream",
     "text": [
      "dataframe shape: (25, 5)\n"
     ]
    },
    {
     "data": {
      "text/html": [
       "<div>\n",
       "<style scoped>\n",
       "    .dataframe tbody tr th:only-of-type {\n",
       "        vertical-align: middle;\n",
       "    }\n",
       "\n",
       "    .dataframe tbody tr th {\n",
       "        vertical-align: top;\n",
       "    }\n",
       "\n",
       "    .dataframe thead th {\n",
       "        text-align: right;\n",
       "    }\n",
       "</style>\n",
       "<table border=\"1\" class=\"dataframe\">\n",
       "  <thead>\n",
       "    <tr style=\"text-align: right;\">\n",
       "      <th></th>\n",
       "      <th>publish_date</th>\n",
       "      <th>source</th>\n",
       "      <th>title</th>\n",
       "      <th>authors</th>\n",
       "      <th>content</th>\n",
       "    </tr>\n",
       "  </thead>\n",
       "  <tbody>\n",
       "    <tr>\n",
       "      <th>0</th>\n",
       "      <td>30 Aug</td>\n",
       "      <td>Times Now</td>\n",
       "      <td>Adani Transmission becomes India's 8th most va...</td>\n",
       "      <td>Hiral Goyal</td>\n",
       "      <td>Adani Transmission has entered the club of Ind...</td>\n",
       "    </tr>\n",
       "    <tr>\n",
       "      <th>1</th>\n",
       "      <td>30 Aug</td>\n",
       "      <td>Reuters</td>\n",
       "      <td>Musk cites whistleblower's claims in new notic...</td>\n",
       "      <td>Hiral Goyal</td>\n",
       "      <td>Tesla CEO Elon Musk's legal team has filed ano...</td>\n",
       "    </tr>\n",
       "    <tr>\n",
       "      <th>2</th>\n",
       "      <td>30 Aug</td>\n",
       "      <td>Financial Express</td>\n",
       "      <td>No plan to rebrand Zomato app to Eternal: CEO ...</td>\n",
       "      <td>Ridham Gambhir</td>\n",
       "      <td>Zomato CEO Deepinder Goyal clarified in an exc...</td>\n",
       "    </tr>\n",
       "    <tr>\n",
       "      <th>3</th>\n",
       "      <td>30 Aug</td>\n",
       "      <td>Hindustan Times</td>\n",
       "      <td>Cancelling AC, first-class confirmed train tic...</td>\n",
       "      <td>Ridham Gambhir</td>\n",
       "      <td>The Finance Ministry stated that cancellation ...</td>\n",
       "    </tr>\n",
       "    <tr>\n",
       "      <th>4</th>\n",
       "      <td>30 Aug</td>\n",
       "      <td>ANI News</td>\n",
       "      <td>China arrests over 230 people tied to its larg...</td>\n",
       "      <td>Hiral Goyal</td>\n",
       "      <td>China has announced that 234 people who are su...</td>\n",
       "    </tr>\n",
       "  </tbody>\n",
       "</table>\n",
       "</div>"
      ],
      "text/plain": [
       "  publish_date             source  \\\n",
       "0       30 Aug          Times Now   \n",
       "1       30 Aug            Reuters   \n",
       "2       30 Aug  Financial Express   \n",
       "3       30 Aug    Hindustan Times   \n",
       "4       30 Aug           ANI News   \n",
       "\n",
       "                                               title         authors  \\\n",
       "0  Adani Transmission becomes India's 8th most va...     Hiral Goyal   \n",
       "1  Musk cites whistleblower's claims in new notic...     Hiral Goyal   \n",
       "2  No plan to rebrand Zomato app to Eternal: CEO ...  Ridham Gambhir   \n",
       "3  Cancelling AC, first-class confirmed train tic...  Ridham Gambhir   \n",
       "4  China arrests over 230 people tied to its larg...     Hiral Goyal   \n",
       "\n",
       "                                             content  \n",
       "0  Adani Transmission has entered the club of Ind...  \n",
       "1  Tesla CEO Elon Musk's legal team has filed ano...  \n",
       "2  Zomato CEO Deepinder Goyal clarified in an exc...  \n",
       "3  The Finance Ministry stated that cancellation ...  \n",
       "4  China has announced that 234 people who are su...  "
      ]
     },
     "execution_count": 357,
     "metadata": {},
     "output_type": "execute_result"
    }
   ],
   "source": [
    "# testing out the function\n",
    "\n",
    "df = get_news_articles('https://inshorts.com/en/read/business')\n",
    "df.head() # where there are 5 unique authors on the inshort business site"
   ]
  },
  {
   "cell_type": "code",
   "execution_count": 363,
   "metadata": {},
   "outputs": [
    {
     "name": "stdout",
     "output_type": "stream",
     "text": [
      "dataframe shape: (25, 5)\n"
     ]
    },
    {
     "data": {
      "text/plain": [
       "array(['Sportskeeda', 'The Print', 'Hindustan Times', 'ICC', 'Instagram',\n",
       "       'Twitter', 'ANI News', 'Reuters', 'News18', None], dtype=object)"
      ]
     },
     "execution_count": 363,
     "metadata": {},
     "output_type": "execute_result"
    }
   ],
   "source": [
    "# testing the function on the 'Sports' section\n",
    "\n",
    "df = get_news_articles('https://inshorts.com/en/read/sports')\n",
    "df[\"source\"].unique()"
   ]
  },
  {
   "cell_type": "code",
   "execution_count": 366,
   "metadata": {},
   "outputs": [
    {
     "name": "stdout",
     "output_type": "stream",
     "text": [
      "dataframe shape: (25, 5)\n"
     ]
    },
    {
     "data": {
      "text/html": [
       "<div>\n",
       "<style scoped>\n",
       "    .dataframe tbody tr th:only-of-type {\n",
       "        vertical-align: middle;\n",
       "    }\n",
       "\n",
       "    .dataframe tbody tr th {\n",
       "        vertical-align: top;\n",
       "    }\n",
       "\n",
       "    .dataframe thead th {\n",
       "        text-align: right;\n",
       "    }\n",
       "</style>\n",
       "<table border=\"1\" class=\"dataframe\">\n",
       "  <thead>\n",
       "    <tr style=\"text-align: right;\">\n",
       "      <th></th>\n",
       "      <th>publish_date</th>\n",
       "      <th>source</th>\n",
       "      <th>title</th>\n",
       "      <th>authors</th>\n",
       "      <th>content</th>\n",
       "    </tr>\n",
       "  </thead>\n",
       "  <tbody>\n",
       "    <tr>\n",
       "      <th>0</th>\n",
       "      <td>30 Aug</td>\n",
       "      <td>BQ Prime</td>\n",
       "      <td>Who are now the world's 10 wealthiest people a...</td>\n",
       "      <td>Hiral Goyal</td>\n",
       "      <td>Gautam Adani has become the world's third rich...</td>\n",
       "    </tr>\n",
       "    <tr>\n",
       "      <th>1</th>\n",
       "      <td>30 Aug</td>\n",
       "      <td>Twitter</td>\n",
       "      <td>Lost 9 kg from my peak weight: Musk after reve...</td>\n",
       "      <td>Hiral Goyal</td>\n",
       "      <td>Responding to a Twitter user, the world's rich...</td>\n",
       "    </tr>\n",
       "    <tr>\n",
       "      <th>2</th>\n",
       "      <td>29 Aug</td>\n",
       "      <td>Free Press Journal</td>\n",
       "      <td>Reliance Industries to stream AGM on VR, socia...</td>\n",
       "      <td>Ridham Gambhir</td>\n",
       "      <td>Reliance Industries on Monday will become one ...</td>\n",
       "    </tr>\n",
       "    <tr>\n",
       "      <th>3</th>\n",
       "      <td>29 Aug</td>\n",
       "      <td>ANI</td>\n",
       "      <td>No such plans: Union Minister on reports of ba...</td>\n",
       "      <td>Ridham Gambhir</td>\n",
       "      <td>Union Minister of State for IT Rajeev Chandras...</td>\n",
       "    </tr>\n",
       "    <tr>\n",
       "      <th>4</th>\n",
       "      <td>30 Aug</td>\n",
       "      <td>Reuters</td>\n",
       "      <td>Musk cites whistleblower's claims in new notic...</td>\n",
       "      <td>Ridham Gambhir</td>\n",
       "      <td>Tesla CEO Elon Musk's legal team has filed ano...</td>\n",
       "    </tr>\n",
       "  </tbody>\n",
       "</table>\n",
       "</div>"
      ],
      "text/plain": [
       "  publish_date              source  \\\n",
       "0       30 Aug            BQ Prime   \n",
       "1       30 Aug             Twitter   \n",
       "2       29 Aug  Free Press Journal   \n",
       "3       29 Aug                 ANI   \n",
       "4       30 Aug             Reuters   \n",
       "\n",
       "                                               title         authors  \\\n",
       "0  Who are now the world's 10 wealthiest people a...     Hiral Goyal   \n",
       "1  Lost 9 kg from my peak weight: Musk after reve...     Hiral Goyal   \n",
       "2  Reliance Industries to stream AGM on VR, socia...  Ridham Gambhir   \n",
       "3  No such plans: Union Minister on reports of ba...  Ridham Gambhir   \n",
       "4  Musk cites whistleblower's claims in new notic...  Ridham Gambhir   \n",
       "\n",
       "                                             content  \n",
       "0  Gautam Adani has become the world's third rich...  \n",
       "1  Responding to a Twitter user, the world's rich...  \n",
       "2  Reliance Industries on Monday will become one ...  \n",
       "3  Union Minister of State for IT Rajeev Chandras...  \n",
       "4  Tesla CEO Elon Musk's legal team has filed ano...  "
      ]
     },
     "execution_count": 366,
     "metadata": {},
     "output_type": "execute_result"
    }
   ],
   "source": [
    "# testing the function on the 'Technology' section\n",
    "\n",
    "df = get_news_articles('https://inshorts.com/en/read/technology')\n",
    "df.head()"
   ]
  },
  {
   "cell_type": "code",
   "execution_count": 367,
   "metadata": {},
   "outputs": [
    {
     "name": "stdout",
     "output_type": "stream",
     "text": [
      "dataframe shape: (25, 5)\n"
     ]
    },
    {
     "data": {
      "text/html": [
       "<div>\n",
       "<style scoped>\n",
       "    .dataframe tbody tr th:only-of-type {\n",
       "        vertical-align: middle;\n",
       "    }\n",
       "\n",
       "    .dataframe tbody tr th {\n",
       "        vertical-align: top;\n",
       "    }\n",
       "\n",
       "    .dataframe thead th {\n",
       "        text-align: right;\n",
       "    }\n",
       "</style>\n",
       "<table border=\"1\" class=\"dataframe\">\n",
       "  <thead>\n",
       "    <tr style=\"text-align: right;\">\n",
       "      <th></th>\n",
       "      <th>publish_date</th>\n",
       "      <th>source</th>\n",
       "      <th>title</th>\n",
       "      <th>authors</th>\n",
       "      <th>content</th>\n",
       "    </tr>\n",
       "  </thead>\n",
       "  <tbody>\n",
       "    <tr>\n",
       "      <th>0</th>\n",
       "      <td>30 Aug</td>\n",
       "      <td>Free Press Journal</td>\n",
       "      <td>Amala Paul's rumoured ex-boyfriend arrested af...</td>\n",
       "      <td>Daisy Mowke</td>\n",
       "      <td>Actress Amala Paul's rumoured ex-boyfriend, Bh...</td>\n",
       "    </tr>\n",
       "    <tr>\n",
       "      <th>1</th>\n",
       "      <td>30 Aug</td>\n",
       "      <td>Twitter</td>\n",
       "      <td>Kamaal R Khan taken to hospital due to chest p...</td>\n",
       "      <td>Daisy Mowke</td>\n",
       "      <td>Kamaal R Khan, who was arrested on Tuesday aft...</td>\n",
       "    </tr>\n",
       "    <tr>\n",
       "      <th>2</th>\n",
       "      <td>30 Aug</td>\n",
       "      <td>Bollywood Hungama</td>\n",
       "      <td>When Barjatya announced 'Vivah', everyone thou...</td>\n",
       "      <td>Daisy Mowke</td>\n",
       "      <td>Filmmaker Ram Gopal Varma in an interview said...</td>\n",
       "    </tr>\n",
       "    <tr>\n",
       "      <th>3</th>\n",
       "      <td>30 Aug</td>\n",
       "      <td>PINKVILLA</td>\n",
       "      <td>Michelle Yeoh to be honoured at Toronto Intern...</td>\n",
       "      <td>Daisy Mowke</td>\n",
       "      <td>Celebrated Malaysian actress Michelle Yeoh wil...</td>\n",
       "    </tr>\n",
       "    <tr>\n",
       "      <th>4</th>\n",
       "      <td>30 Aug</td>\n",
       "      <td>PINKVILLA</td>\n",
       "      <td>Megan Thee Stallion to make a cameo appearance...</td>\n",
       "      <td>Udit Gupta</td>\n",
       "      <td>Rapper Megan Thee Stallion will reportedly fea...</td>\n",
       "    </tr>\n",
       "  </tbody>\n",
       "</table>\n",
       "</div>"
      ],
      "text/plain": [
       "  publish_date              source  \\\n",
       "0       30 Aug  Free Press Journal   \n",
       "1       30 Aug             Twitter   \n",
       "2       30 Aug   Bollywood Hungama   \n",
       "3       30 Aug           PINKVILLA   \n",
       "4       30 Aug           PINKVILLA   \n",
       "\n",
       "                                               title      authors  \\\n",
       "0  Amala Paul's rumoured ex-boyfriend arrested af...  Daisy Mowke   \n",
       "1  Kamaal R Khan taken to hospital due to chest p...  Daisy Mowke   \n",
       "2  When Barjatya announced 'Vivah', everyone thou...  Daisy Mowke   \n",
       "3  Michelle Yeoh to be honoured at Toronto Intern...  Daisy Mowke   \n",
       "4  Megan Thee Stallion to make a cameo appearance...   Udit Gupta   \n",
       "\n",
       "                                             content  \n",
       "0  Actress Amala Paul's rumoured ex-boyfriend, Bh...  \n",
       "1  Kamaal R Khan, who was arrested on Tuesday aft...  \n",
       "2  Filmmaker Ram Gopal Varma in an interview said...  \n",
       "3  Celebrated Malaysian actress Michelle Yeoh wil...  \n",
       "4  Rapper Megan Thee Stallion will reportedly fea...  "
      ]
     },
     "execution_count": 367,
     "metadata": {},
     "output_type": "execute_result"
    }
   ],
   "source": [
    "# testing the function on the 'Entertainment' section\n",
    "\n",
    "df = get_news_articles('https://inshorts.com/en/read/entertainment')\n",
    "df.head()"
   ]
  },
  {
   "cell_type": "markdown",
   "metadata": {},
   "source": [
    "----\n",
    "\n",
    "#### ``Exercise Number 3: Caching the Data``\n",
    "\n",
    "**<u>Notes:</u>**\n",
    "\n",
    "* Write your code such that the acquired data is saved locally in some form or fashion. Your functions that retrieve the data should prefer to read the local data instead of having to make all the requests everytime the function is called. \n",
    "* Include a boolean flag in the functions to allow the data to be acquired \"fresh\" from the actual sources (re-writing your local cache)"
   ]
  },
  {
   "cell_type": "markdown",
   "metadata": {},
   "source": []
  }
 ],
 "metadata": {
  "kernelspec": {
   "display_name": "Python 3.9.12 ('base')",
   "language": "python",
   "name": "python3"
  },
  "language_info": {
   "codemirror_mode": {
    "name": "ipython",
    "version": 3
   },
   "file_extension": ".py",
   "mimetype": "text/x-python",
   "name": "python",
   "nbconvert_exporter": "python",
   "pygments_lexer": "ipython3",
   "version": "3.9.12"
  },
  "orig_nbformat": 4,
  "vscode": {
   "interpreter": {
    "hash": "40d3a090f54c6569ab1632332b64b2c03c39dcf918b08424e98f38b5ae0af88f"
   }
  }
 },
 "nbformat": 4,
 "nbformat_minor": 2
}
