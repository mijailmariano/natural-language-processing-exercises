{
 "cells": [
  {
   "cell_type": "markdown",
   "metadata": {},
   "source": [
    "### ``Exercises: Web Scrapping``\n",
    "\n",
    "    30AUGUST2022\n",
    "\n",
    "----"
   ]
  },
  {
   "cell_type": "code",
   "execution_count": 1,
   "metadata": {},
   "outputs": [],
   "source": [
    "# notebook dependencies \n",
    "import os # for caching purposeses\n",
    "import pandas as pd\n",
    "import numpy as np\n",
    "\n",
    "# visualization imports\n",
    "import matplotlib.pyplot as plt\n",
    "import seaborn as sns\n",
    "sns.set()\n",
    "\n",
    "# regular expression import\n",
    "import re\n",
    "\n",
    "# importing BeautifulSoup for parsing HTML/XTML\n",
    "from bs4 import BeautifulSoup\n",
    "\n",
    "# request module for connecting to APIs\n",
    "from requests import get"
   ]
  },
  {
   "cell_type": "markdown",
   "metadata": {},
   "source": [
    "#### ``Exercise Number 1: Web Scrapping -- Codeup Blog Articles``\n",
    "\n",
    "**<u>``Prompt:``</u>**\n",
    "\n",
    "* Visit Codeup's Blog and record the urls for at least 5 distinct blog posts. \n",
    "\n",
    "* For each post, you should scrape at least the post's title and content.\n",
    "\n",
    "* Encapsulate your work in a function named get_blog_articles that will return a list of dictionaries:\n",
    "\n",
    "    - With each dictionary representing one article. The shape of each dictionary should look like this:\n",
    "\n",
    ">{\n",
    "    'title': 'the title of the article',\\\n",
    "    'content': 'the full text content of the article'\n",
    "}\n",
    "\n",
    "\n",
    "- Plus any additional properties you think might be helpful"
   ]
  },
  {
   "cell_type": "code",
   "execution_count": 11,
   "metadata": {},
   "outputs": [
    {
     "name": "stdout",
     "output_type": "stream",
     "text": [
      "url: https://codeup.com/blog/\n"
     ]
    }
   ],
   "source": [
    "# let's connect to the Codeup url/domain\n",
    "\n",
    "domain = 'https://codeup.com'\n",
    "endpoint = '/blog/'\n",
    "\n",
    "# creating the url\n",
    "url = domain + endpoint\n",
    "\n",
    "# creating the response element/object (including headers)\n",
    "# note: some websites don't accept the pyhon-requests default user-agent\n",
    "headers = {'User-Agent': 'Codeup Data Science'} \n",
    "response = get(url, headers = headers)\n",
    "\n",
    "print(f'url: {url}')"
   ]
  },
  {
   "cell_type": "code",
   "execution_count": 12,
   "metadata": {},
   "outputs": [
    {
     "data": {
      "text/plain": [
       "requests.models.Response"
      ]
     },
     "execution_count": 12,
     "metadata": {},
     "output_type": "execute_result"
    }
   ],
   "source": [
    "# checking the response object/type\n",
    "\n",
    "type(response)"
   ]
  },
  {
   "cell_type": "code",
   "execution_count": 16,
   "metadata": {},
   "outputs": [
    {
     "data": {
      "text/plain": [
       "bs4.BeautifulSoup"
      ]
     },
     "execution_count": 16,
     "metadata": {},
     "output_type": "execute_result"
    }
   ],
   "source": [
    "# let's use the BeautifulSoup module to create an HTML object\n",
    "\n",
    "soup = BeautifulSoup(response.content, 'html.parser')\n",
    "type(soup)"
   ]
  },
  {
   "cell_type": "markdown",
   "metadata": {},
   "source": [
    "**``Beautiful Soup Methods and Properties``**\n",
    "\n",
    "* ``soup.title.string`` gets the page's title (the same text in the browser tab for a page, this is the title element\n",
    "\n",
    "* ``soup.prettify()`` is useful to print in case you want to see the HTML\n",
    "\n",
    "* ``soup.find_all(\"a\")`` find all the anchor tags, or whatever argument is specified.\n",
    "\n",
    "* ``soup.find(\"h1\")`` finds the first matching element\n",
    "\n",
    "* ``soup.get_text()`` gets the text from within a matching piece of soup/HTML\n",
    "\n",
    "* The ``soup.select()`` method takes in a CSS selector as a string and returns all matching elements. super useful"
   ]
  },
  {
   "cell_type": "code",
   "execution_count": null,
   "metadata": {},
   "outputs": [],
   "source": []
  },
  {
   "cell_type": "markdown",
   "metadata": {},
   "source": []
  }
 ],
 "metadata": {
  "kernelspec": {
   "display_name": "Python 3.9.12 ('base')",
   "language": "python",
   "name": "python3"
  },
  "language_info": {
   "codemirror_mode": {
    "name": "ipython",
    "version": 3
   },
   "file_extension": ".py",
   "mimetype": "text/x-python",
   "name": "python",
   "nbconvert_exporter": "python",
   "pygments_lexer": "ipython3",
   "version": "3.9.12"
  },
  "orig_nbformat": 4,
  "vscode": {
   "interpreter": {
    "hash": "40d3a090f54c6569ab1632332b64b2c03c39dcf918b08424e98f38b5ae0af88f"
   }
  }
 },
 "nbformat": 4,
 "nbformat_minor": 2
}
