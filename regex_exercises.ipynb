{
 "cells": [
  {
   "cell_type": "markdown",
   "metadata": {},
   "source": [
    "### ``Exercises: REGULAR EXPRESSION``\n",
    "\n",
    "    29AUGUST2022\n",
    "\n",
    "----"
   ]
  },
  {
   "cell_type": "code",
   "execution_count": 3,
   "metadata": {},
   "outputs": [],
   "source": [
    "# notebook dependencies \n",
    "import pandas as pd\n",
    "import numpy as np\n",
    "\n",
    "# visualization imports\n",
    "import matplotlib.pyplot as plt\n",
    "import seaborn as sns\n",
    "sns.set()\n",
    "\n",
    "# regular expression import\n",
    "import re"
   ]
  },
  {
   "cell_type": "markdown",
   "metadata": {},
   "source": [
    "### ``Exercises Number 1: Write a function named is_vowel``\n",
    "\n",
    "**It should accept a string as input and use a regular expression to determine if the passed string is a vowel.** \n",
    "\n",
    "*While not explicity mentioned in the lesson, you can treat the result of re.search as a boolean value that indicates whether or not the regular expression matches the given string.*"
   ]
  },
  {
   "cell_type": "code",
   "execution_count": 46,
   "metadata": {},
   "outputs": [],
   "source": [
    "# function created to check if string/character is a vowel\n",
    "# if string/character is vowel, function returns True\n",
    "# if string/character != vowel, function returns False\n",
    "\n",
    "vowel = [\"a\", \"e\", \"i\", \"o\", \"u\"]\n",
    "\n",
    "def is_vowel(x):\n",
    "    search_result = re.search(r\"[aeiou]\", x, re.IGNORECASE)\n",
    "    if search_result != None:\n",
    "        return True\n",
    "    else:\n",
    "        return False"
   ]
  },
  {
   "cell_type": "code",
   "execution_count": 48,
   "metadata": {},
   "outputs": [
    {
     "data": {
      "text/plain": [
       "False"
      ]
     },
     "execution_count": 48,
     "metadata": {},
     "output_type": "execute_result"
    }
   ],
   "source": [
    "# checking the function\n",
    "\n",
    "is_vowel(\"p\")"
   ]
  },
  {
   "cell_type": "code",
   "execution_count": 50,
   "metadata": {},
   "outputs": [
    {
     "data": {
      "text/plain": [
       "True"
      ]
     },
     "execution_count": 50,
     "metadata": {},
     "output_type": "execute_result"
    }
   ],
   "source": [
    "# checking the function\n",
    "\n",
    "is_vowel(\"i\")"
   ]
  },
  {
   "cell_type": "markdown",
   "metadata": {},
   "source": [
    "----\n",
    "\n",
    "### ``Exercise Number 2: Write a function named is_valid_username that accepts a string as input.``\n",
    "\n",
    "**A valid username starts with a lowercase letter, and only consists of lowercase letters, numbers, or the _ character.**\n",
    "\n",
    "- It should also be no longer than 32 characters.\n",
    "- The function should return either True or False depending on whether the passed string is a valid username."
   ]
  },
  {
   "cell_type": "code",
   "execution_count": 188,
   "metadata": {},
   "outputs": [],
   "source": [
    "# function to check if username is valid\n",
    "# username must be equal to, or less than 32 characters\n",
    "# username cannot contain uppercase letters \n",
    "# username cannot contain non-alphanumeric characters (e.g., @, #, %, etc.)\n",
    "\n",
    "def is_valid_username(username):\n",
    "    if len(username) <= 32:\n",
    "        search_result = re.findall(r\"[^a-z0-9_]\", username)\n",
    "        if len(search_result) == 0:\n",
    "            return print(\"Valid Username.\")\n",
    "        else:\n",
    "            return print(\"Invalid username. Try again.\")\n",
    "    else:\n",
    "        print(\"Invalid username. Try again.\")"
   ]
  },
  {
   "cell_type": "code",
   "execution_count": 196,
   "metadata": {},
   "outputs": [
    {
     "name": "stdout",
     "output_type": "stream",
     "text": [
      "Valid Username.\n"
     ]
    }
   ],
   "source": [
    "# checking the function\n",
    "\n",
    "is_valid_username(\"baseball_12\") # checks out!"
   ]
  },
  {
   "cell_type": "code",
   "execution_count": 197,
   "metadata": {},
   "outputs": [
    {
     "name": "stdout",
     "output_type": "stream",
     "text": [
      "Invalid username. Try again.\n"
     ]
    }
   ],
   "source": [
    "# checking the function\n",
    "\n",
    "is_valid_username(\"Baseball_12\") # checks out!"
   ]
  },
  {
   "cell_type": "code",
   "execution_count": 199,
   "metadata": {},
   "outputs": [
    {
     "name": "stdout",
     "output_type": "stream",
     "text": [
      "Invalid username. Try again.\n"
     ]
    }
   ],
   "source": [
    "# checking the function\n",
    "\n",
    "is_valid_username(\"bas@seball_12\") # checks out!"
   ]
  },
  {
   "cell_type": "markdown",
   "metadata": {},
   "source": [
    "----\n",
    "### ``Exercise Number 3: Write a regular expression to capture phone numbers. It should match all of the following:``\n",
    "\n",
    "**<u>Sample Phone Numbers:</u>**\n",
    "\n",
    "* (210) 867 5309\n",
    "* +1 210.867.5309\n",
    "* 867-5309\n",
    "* 210-867-5309"
   ]
  },
  {
   "cell_type": "markdown",
   "metadata": {},
   "source": []
  }
 ],
 "metadata": {
  "kernelspec": {
   "display_name": "Python 3.9.12 ('base')",
   "language": "python",
   "name": "python3"
  },
  "language_info": {
   "codemirror_mode": {
    "name": "ipython",
    "version": 3
   },
   "file_extension": ".py",
   "mimetype": "text/x-python",
   "name": "python",
   "nbconvert_exporter": "python",
   "pygments_lexer": "ipython3",
   "version": "3.9.12"
  },
  "orig_nbformat": 4,
  "vscode": {
   "interpreter": {
    "hash": "40d3a090f54c6569ab1632332b64b2c03c39dcf918b08424e98f38b5ae0af88f"
   }
  }
 },
 "nbformat": 4,
 "nbformat_minor": 2
}
