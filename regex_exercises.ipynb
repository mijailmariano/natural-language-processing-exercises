{
 "cells": [
  {
   "cell_type": "markdown",
   "metadata": {},
   "source": [
    "### ``Exercises: REGULAR EXPRESSION (\"regex\")``\n",
    "\n",
    "    29AUGUST2022\n",
    "\n",
    "----"
   ]
  },
  {
   "cell_type": "code",
   "execution_count": 64,
   "metadata": {},
   "outputs": [],
   "source": [
    "# notebook dependencies \n",
    "import pandas as pd\n",
    "import numpy as np\n",
    "\n",
    "# visualization imports\n",
    "import matplotlib.pyplot as plt\n",
    "import seaborn as sns\n",
    "sns.set()\n",
    "\n",
    "# regular expression import\n",
    "import re"
   ]
  },
  {
   "cell_type": "markdown",
   "metadata": {},
   "source": [
    "### ``Exercises Number 1: Write a function named is_vowel``\n",
    "\n",
    "**It should accept a string as input and use a regular expression to determine if the passed string is a vowel.** \n",
    "\n",
    "*While not explicity mentioned in the lesson, you can treat the result of re.search as a boolean value that indicates whether or not the regular expression matches the given string.*"
   ]
  },
  {
   "cell_type": "code",
   "execution_count": 65,
   "metadata": {},
   "outputs": [],
   "source": [
    "# function created to check if string/character is a vowel\n",
    "# if string/character is vowel, function returns True\n",
    "# if string/character != vowel, function returns False\n",
    "\n",
    "vowel = [\"a\", \"e\", \"i\", \"o\", \"u\"]\n",
    "\n",
    "def is_vowel(x):\n",
    "    \n",
    "    search_result = re.search(r\"^[aeiou]{1}$\", x, re.IGNORECASE)\n",
    "\n",
    "    if search_result != None:\n",
    "\n",
    "        return True\n",
    "\n",
    "    else:\n",
    "\n",
    "        return False"
   ]
  },
  {
   "cell_type": "code",
   "execution_count": 66,
   "metadata": {},
   "outputs": [
    {
     "data": {
      "text/plain": [
       "False"
      ]
     },
     "execution_count": 66,
     "metadata": {},
     "output_type": "execute_result"
    }
   ],
   "source": [
    "# checking the function\n",
    "\n",
    "is_vowel(\"p\")"
   ]
  },
  {
   "cell_type": "code",
   "execution_count": 67,
   "metadata": {},
   "outputs": [
    {
     "data": {
      "text/plain": [
       "True"
      ]
     },
     "execution_count": 67,
     "metadata": {},
     "output_type": "execute_result"
    }
   ],
   "source": [
    "# checking the function\n",
    "\n",
    "is_vowel(\"o\")"
   ]
  },
  {
   "cell_type": "markdown",
   "metadata": {},
   "source": [
    "----\n",
    "\n",
    "### ``Exercise Number 2: Write a function named is_valid_username that accepts a string as input.``\n",
    "\n",
    "**A valid username starts with a lowercase letter, and only consists of lowercase letters, numbers, or the _ character.**\n",
    "\n",
    "- It should also be no longer than 32 characters.\n",
    "- The function should return either True or False depending on whether the passed string is a valid username."
   ]
  },
  {
   "cell_type": "code",
   "execution_count": 68,
   "metadata": {},
   "outputs": [],
   "source": [
    "# function to check if username is valid\n",
    "# username must be equal to, or less than 32 characters\n",
    "# username cannot contain uppercase letters \n",
    "# username cannot contain non-alphanumeric characters (e.g., @, #, %, etc.)\n",
    "\n",
    "def is_valid_username(username):\n",
    "    \n",
    "    # verifying the username is 32 or less characters\n",
    "    if len(username) <= 32:\n",
    "\n",
    "        '''RegEx parses thru text/username, finds any character\n",
    "        not in expression: [a-z0-9_]. Any found characters are saved to a list variable.\n",
    "        If variable list is empty then username is valid.'''\n",
    "\n",
    "        search_result = re.search(r'^[a-z][a-z0-9_]$', username)\n",
    "\n",
    "        if search_result != None:\n",
    "\n",
    "            return print(\"Valid Username.\")\n",
    "\n",
    "        else:\n",
    "\n",
    "            return print(\"Invalid username. Try again.\")\n",
    "    else:\n",
    "        print(\"Invalid username. Length of username must be <= 32 characters. Try again.\")"
   ]
  },
  {
   "cell_type": "code",
   "execution_count": 69,
   "metadata": {},
   "outputs": [
    {
     "name": "stdout",
     "output_type": "stream",
     "text": [
      "Invalid username. Try again.\n"
     ]
    }
   ],
   "source": [
    "# checking the function -- username should be correct!\n",
    "\n",
    "is_valid_username(\"baseball_12\") # checks out!"
   ]
  },
  {
   "cell_type": "code",
   "execution_count": 70,
   "metadata": {},
   "outputs": [
    {
     "name": "stdout",
     "output_type": "stream",
     "text": [
      "Invalid username. Try again.\n"
     ]
    }
   ],
   "source": [
    "# checking the function -- where the \"B\" is capitalized\n",
    "\n",
    "is_valid_username(\"Baseball_12\") # checks out!"
   ]
  },
  {
   "cell_type": "code",
   "execution_count": 71,
   "metadata": {},
   "outputs": [
    {
     "name": "stdout",
     "output_type": "stream",
     "text": [
      "Invalid username. Try again.\n"
     ]
    }
   ],
   "source": [
    "# checking the function -- where there is a \"@\" in the username\n",
    "\n",
    "is_valid_username(\"bas@seball_12\") # checks out!"
   ]
  },
  {
   "cell_type": "markdown",
   "metadata": {},
   "source": [
    "----\n",
    "### ``Exercise Number 3: Write a regular expression to capture phone numbers. It should match all of the following:``\n",
    "\n",
    "**<u>Sample Phone Numbers:</u>**\n",
    "\n",
    "* (210) 867 5309\n",
    "* +1 210.867.5309\n",
    "* 867-5309\n",
    "* 210-867-5309"
   ]
  },
  {
   "cell_type": "code",
   "execution_count": 72,
   "metadata": {},
   "outputs": [],
   "source": [
    "# let's create a list of phone numbers to iterate through\n",
    "\n",
    "numbers = [\n",
    "        '(210) 867 5309', \\\n",
    "        '+1 210.867.5309', \\\n",
    "        '867-5309', \\\n",
    "        '210-867-5309', \\\n",
    "        '678!09', \\\n",
    "        '+19, (222)'\n",
    "]\n",
    "\n",
    "def is_phone_number(phone_number):\n",
    "    \n",
    "    search_result = re.search(r'''\n",
    "    # where first line is expressing: check if string begins with \"+\", if so - check the 0-3 characters characters that come after it (optional)\n",
    "        (^\\+?\\d{0,3})\n",
    "\n",
    "        # check if following characters are present (optional)\n",
    "                ?\\s?(\\(?[0-9]{3}\\)?)\n",
    "\n",
    "                # check if following characters are present (optional)\n",
    "                    ?.?[0-9]{3}.\n",
    "\n",
    "                    # check if following characters are present (optional)\n",
    "                        ?[0-9]{4}''', phone_number, re.VERBOSE)\n",
    "\n",
    "    # if re.search object is not empty, then it is a valid phone number, otherwise...it's not a valid number\n",
    "    if search_result != None:\n",
    "\n",
    "        return print(f'[{phone_number}].....VALID phone number.')\n",
    "\n",
    "    else: return print(f'[{phone_number}].....NOT VALID phone number.')\n",
    "\n",
    "\n",
    "# note to self:\n",
    "# I'm not really sure why most/all of these \"chuncks are optional\"\n",
    "# if all chuncks are optional then what is the purpose of expressing the syntax for phone numbers/needed results?"
   ]
  },
  {
   "cell_type": "code",
   "execution_count": 73,
   "metadata": {},
   "outputs": [
    {
     "name": "stdout",
     "output_type": "stream",
     "text": [
      "[(210) 867 5309].....VALID phone number.\n",
      "[+1 210.867.5309].....VALID phone number.\n",
      "[867-5309].....VALID phone number.\n",
      "[210-867-5309].....VALID phone number.\n",
      "[678!09].....NOT VALID phone number.\n",
      "[+19, (222)].....NOT VALID phone number.\n"
     ]
    }
   ],
   "source": [
    "# checking the function with loop through numbers\n",
    "\n",
    "for number in numbers:\n",
    "    \n",
    "    is_phone_number(number) # checks out!"
   ]
  },
  {
   "cell_type": "markdown",
   "metadata": {},
   "source": [
    "----\n",
    "\n",
    "### ``Exercise Number 4: Use regular expressions to convert the dates below to the standardized year-month-day format.``\n",
    "\n",
    "**<u>Sample Text:</u>**\n",
    "\n",
    "* 02/04/19\n",
    "* 02/05/19\n",
    "* 02/06/19\n",
    "* 02/07/19\n",
    "* 02/08/19\n",
    "* 02/09/19\n",
    "* 02/10/19"
   ]
  },
  {
   "cell_type": "code",
   "execution_count": 74,
   "metadata": {},
   "outputs": [],
   "source": [
    "# i want the function to take in a date\n",
    "# function should transform/normalize the input date\n",
    "# output date should be in the form of: year-month-day or YYYY-MM-DD\n",
    "\n",
    "# in looking at the sample text i notice a few things:\n",
    "# 1. string/date is the format of MM-DD-YY\n",
    "# 2. I may need the datetime library.module to assist in the date cleaning process\n",
    "\n",
    "from datetime import datetime\n",
    "\n",
    "# let's create a list of sample dates to check \n",
    "date_lst = [ \n",
    "            '02/04/19',\n",
    "            '02/05/19',\n",
    "            '02/06/19',\n",
    "            '02/07/19',\n",
    "            '02/08/19',\n",
    "            '02/09/19',\n",
    "            '02/10/19',\n",
    "            '2022-08-29' # would need to return to this line: function doesn't capture this correctly\n",
    "            ]\n",
    "\n",
    "\n",
    "# regex patterns to identify the type of date format\n",
    "patterns = {\n",
    "\n",
    "    '%m/%d/%y': r'^\\s*\\d{1,2}\\/\\d{1,2}\\/\\d{1,2}\\s*$',\n",
    "    '%Y/%m/%d': r'^\\s*\\d{4}\\/\\d{1,2}\\/\\d{1,2}\\s*$',\n",
    "    '%d/%m/%Y': r'^\\s*\\d{1,2}\\/\\d{1,2}\\/\\d{4}\\s*$',\n",
    "    '%Y-%m-%d': r'^\\s*\\d{4}-\\d{1,2}-\\d{1,2}\\s*$',\n",
    "    '%d-%m-%Y': r'^\\s*\\d{1,2}-\\d{1,2}-\\d{4}\\s*$',\n",
    "}\n",
    "\n",
    "\n",
    "def normalize_dates(input_date):\n",
    "    \"\"\"\n",
    "    Identify the format of input date and convert to datetime.\n",
    "    Along with that track the status of conversion\n",
    "    \"\"\"\n",
    "    try:\n",
    "\n",
    "        for expected_format, pattern in patterns.items():\n",
    "\n",
    "            if re.match(pattern, input_date):\n",
    "\n",
    "                return 'CONVERTED', datetime.strptime(input_date, expected_format).date()\n",
    "\n",
    "    except Exception as e:\n",
    "\n",
    "        return 'EXCEPTION', datetime.strptime(input_date, '%Y-%m-%d').date()\n",
    "\n",
    "    return 'NOT CONVERTED'"
   ]
  },
  {
   "cell_type": "code",
   "execution_count": 75,
   "metadata": {},
   "outputs": [
    {
     "name": "stdout",
     "output_type": "stream",
     "text": [
      "Input Date: [02/04/19] [CONVERTED] to [2019-02-04]\n",
      "Input Date: [02/05/19] [CONVERTED] to [2019-02-05]\n",
      "Input Date: [02/06/19] [CONVERTED] to [2019-02-06]\n",
      "Input Date: [02/07/19] [CONVERTED] to [2019-02-07]\n",
      "Input Date: [02/08/19] [CONVERTED] to [2019-02-08]\n",
      "Input Date: [02/09/19] [CONVERTED] to [2019-02-09]\n",
      "Input Date: [02/10/19] [CONVERTED] to [2019-02-10]\n",
      "Input Date: [2022-08-29] [CONVERTED] to [2022-08-29]\n"
     ]
    }
   ],
   "source": [
    "# ok, let's try the function returning the status of the date object passed and any conversion made\n",
    "# expected outcome should be YYYY-MM-DD format\n",
    "\n",
    "if __name__ == '__main__':\n",
    "    \n",
    "    for date in date_lst:\n",
    "\n",
    "        status, date_obj = normalize_dates(date)\n",
    "        \n",
    "        print(f'Input Date: [{date}] [{status}] to [{date_obj}]')"
   ]
  },
  {
   "cell_type": "code",
   "execution_count": 76,
   "metadata": {},
   "outputs": [
    {
     "data": {
      "text/plain": [
       "0      02/04/19\n",
       "1      02/05/19\n",
       "2      02/06/19\n",
       "3      02/07/19\n",
       "4      02/08/19\n",
       "5      02/09/19\n",
       "6      02/10/19\n",
       "7    2022-08-29\n",
       "dtype: object"
      ]
     },
     "execution_count": 76,
     "metadata": {},
     "output_type": "execute_result"
    }
   ],
   "source": [
    "# alternative method borrowed from Codeup\n",
    "# first, convert sample dates to a Pandas Series\n",
    "\n",
    "dates = pd.Series(date_lst)\n",
    "dates"
   ]
  },
  {
   "cell_type": "code",
   "execution_count": 82,
   "metadata": {},
   "outputs": [
    {
     "data": {
      "text/plain": [
       "0    2019-02-04\n",
       "1    2019-02-05\n",
       "2    2019-02-06\n",
       "3    2019-02-07\n",
       "4    2019-02-08\n",
       "5    2019-02-09\n",
       "6    2019-02-10\n",
       "7    2022-08-29\n",
       "dtype: object"
      ]
     },
     "execution_count": 82,
     "metadata": {},
     "output_type": "execute_result"
    }
   ],
   "source": [
    "# next, use Pandas and regex to parse the dates and clean them\n",
    "\n",
    "dates = dates.str.replace(r'(\\d{2,4})/(\\d{2})/(\\d{2})', r'20\\3-\\1-\\2', regex = True)\n",
    "dates # all but one, checks out. return back to this for corrections"
   ]
  },
  {
   "cell_type": "markdown",
   "metadata": {},
   "source": [
    "----\n",
    "#### ``Exercise Number 5: Write a regex to extract the various parts of these logfile lines:``\n",
    "\n",
    "* GET /api/v1/sales?page=86 [16/Apr/2019:193452+0000] HTTP/1.1 {200} 510348 \"python-requests/2.21.0\" 97.105.19.58\n",
    "* POST /users_accounts/file-upload [16/Apr/2019:193452+0000] HTTP/1.1 {201} 42 \"User-Agent: Mozilla/5.0 (X11; Fedora; Fedora; Linux x86_64) AppleWebKit/537.36 (KHTML, like Gecko) Chrome/73.0.3683.86 Safari/537.36\" 97.105.19.58\n",
    "* GET /api/v1/items?page=3 [16/Apr/2019:193453+0000] HTTP/1.1 {429} 3561 \"python-requests/2.21.0\" 97.105.19.58\n"
   ]
  },
  {
   "cell_type": "code",
   "execution_count": 78,
   "metadata": {},
   "outputs": [],
   "source": [
    "# let's convert the logfile lines into a string text\n",
    "\n",
    "logs = [\n",
    "'GET /api/v1/sales?page=86 [16/Apr/2019:193452+0000] HTTP/1.1 {200} 510348 \"python-requests/2.21.0\" 97.105.19.58', \n",
    "'POST /users_accounts/file-upload [16/Apr/2019:193452+0000] HTTP/1.1 {201} 42 \"User-Agent: Mozilla/5.0 (X11; Fedora; Fedora; Linux x86_64) AppleWebKit/537.36 (KHTML, like Gecko) Chrome/73.0.3683.86 Safari/537.36\" 97.105.19.58', \n",
    "'GET /api/v1/items?page=3 [16/Apr/2019:193453+0000] HTTP/1.1 {429} 3561 \"python-requests/2.21.0\" 97.105.19.58']"
   ]
  },
  {
   "cell_type": "code",
   "execution_count": 79,
   "metadata": {},
   "outputs": [],
   "source": [
    "# let's use the re.complile() function to help with parsing the log data\n",
    "\n",
    "# what type of request is it? e.g., Get or Post?\n",
    "# borrowing code block from Codeup\n",
    "\n",
    "logfiles_re = r'''\n",
    "\n",
    "^(?P<method>GET|POST)\\s+    # checking the call type (optional)\n",
    "    (?P<path>.*?)\\s+    # checking the path/endpoint after the call type (optional)\n",
    "        \\[(?P<timestamp>.*?)\\]\\s+   # checking when the log/call was recorded (optional)\n",
    "            (?P<http_version>.*?)\\s+    # checking the http version for data transfer (optional)\n",
    "                \\{(?P<status>\\d+)\\}\\s+  # checking the call status (optional)\n",
    "                    (?P<bytes>\\d+)\\s+   # checking the file size in bytes (optional)\n",
    "                        \"(?P<user_agent>.*)\"\\s+     # checking user_agent or software/platform used to retrieve the data (optional)\n",
    "                            (?P<ip>.*)$     # checking the IP address (optional)\n",
    "'''"
   ]
  },
  {
   "cell_type": "code",
   "execution_count": 80,
   "metadata": {},
   "outputs": [
    {
     "data": {
      "text/plain": [
       "0    GET /api/v1/sales?page=86 [16/Apr/2019:193452+...\n",
       "1    POST /users_accounts/file-upload [16/Apr/2019:...\n",
       "2    GET /api/v1/items?page=3 [16/Apr/2019:193453+0...\n",
       "dtype: object"
      ]
     },
     "execution_count": 80,
     "metadata": {},
     "output_type": "execute_result"
    }
   ],
   "source": [
    "# let's now convert the logs into a pandas series\n",
    "\n",
    "logfiles = pd.Series(logs)\n",
    "logfiles"
   ]
  },
  {
   "cell_type": "code",
   "execution_count": 81,
   "metadata": {},
   "outputs": [
    {
     "data": {
      "text/html": [
       "<div>\n",
       "<style scoped>\n",
       "    .dataframe tbody tr th:only-of-type {\n",
       "        vertical-align: middle;\n",
       "    }\n",
       "\n",
       "    .dataframe tbody tr th {\n",
       "        vertical-align: top;\n",
       "    }\n",
       "\n",
       "    .dataframe thead th {\n",
       "        text-align: right;\n",
       "    }\n",
       "</style>\n",
       "<table border=\"1\" class=\"dataframe\">\n",
       "  <thead>\n",
       "    <tr style=\"text-align: right;\">\n",
       "      <th></th>\n",
       "      <th>method</th>\n",
       "      <th>path</th>\n",
       "      <th>timestamp</th>\n",
       "      <th>http_version</th>\n",
       "      <th>status</th>\n",
       "      <th>bytes</th>\n",
       "      <th>user_agent</th>\n",
       "      <th>ip</th>\n",
       "    </tr>\n",
       "  </thead>\n",
       "  <tbody>\n",
       "    <tr>\n",
       "      <th>0</th>\n",
       "      <td>GET</td>\n",
       "      <td>/api/v1/sales?page=86</td>\n",
       "      <td>16/Apr/2019:193452+0000</td>\n",
       "      <td>HTTP/1.1</td>\n",
       "      <td>200</td>\n",
       "      <td>510348</td>\n",
       "      <td>python-requests/2.21.0</td>\n",
       "      <td>97.105.19.58</td>\n",
       "    </tr>\n",
       "    <tr>\n",
       "      <th>1</th>\n",
       "      <td>POST</td>\n",
       "      <td>/users_accounts/file-upload</td>\n",
       "      <td>16/Apr/2019:193452+0000</td>\n",
       "      <td>HTTP/1.1</td>\n",
       "      <td>201</td>\n",
       "      <td>42</td>\n",
       "      <td>User-Agent: Mozilla/5.0 (X11; Fedora; Fedora; ...</td>\n",
       "      <td>97.105.19.58</td>\n",
       "    </tr>\n",
       "    <tr>\n",
       "      <th>2</th>\n",
       "      <td>GET</td>\n",
       "      <td>/api/v1/items?page=3</td>\n",
       "      <td>16/Apr/2019:193453+0000</td>\n",
       "      <td>HTTP/1.1</td>\n",
       "      <td>429</td>\n",
       "      <td>3561</td>\n",
       "      <td>python-requests/2.21.0</td>\n",
       "      <td>97.105.19.58</td>\n",
       "    </tr>\n",
       "  </tbody>\n",
       "</table>\n",
       "</div>"
      ],
      "text/plain": [
       "  method                         path                timestamp http_version  \\\n",
       "0    GET        /api/v1/sales?page=86  16/Apr/2019:193452+0000     HTTP/1.1   \n",
       "1   POST  /users_accounts/file-upload  16/Apr/2019:193452+0000     HTTP/1.1   \n",
       "2    GET         /api/v1/items?page=3  16/Apr/2019:193453+0000     HTTP/1.1   \n",
       "\n",
       "  status   bytes                                         user_agent  \\\n",
       "0    200  510348                             python-requests/2.21.0   \n",
       "1    201      42  User-Agent: Mozilla/5.0 (X11; Fedora; Fedora; ...   \n",
       "2    429    3561                             python-requests/2.21.0   \n",
       "\n",
       "             ip  \n",
       "0  97.105.19.58  \n",
       "1  97.105.19.58  \n",
       "2  97.105.19.58  "
      ]
     },
     "execution_count": 81,
     "metadata": {},
     "output_type": "execute_result"
    }
   ],
   "source": [
    "# next, we'll use both pandas and regex to parse the logs data\n",
    "\n",
    "logfiles = logfiles.str.extract(logfiles_re, re.VERBOSE)\n",
    "logfiles # checks out!"
   ]
  },
  {
   "cell_type": "code",
   "execution_count": null,
   "metadata": {},
   "outputs": [],
   "source": []
  }
 ],
 "metadata": {
  "kernelspec": {
   "display_name": "Python 3.9.12 ('base')",
   "language": "python",
   "name": "python3"
  },
  "language_info": {
   "codemirror_mode": {
    "name": "ipython",
    "version": 3
   },
   "file_extension": ".py",
   "mimetype": "text/x-python",
   "name": "python",
   "nbconvert_exporter": "python",
   "pygments_lexer": "ipython3",
   "version": "3.9.12"
  },
  "orig_nbformat": 4,
  "vscode": {
   "interpreter": {
    "hash": "40d3a090f54c6569ab1632332b64b2c03c39dcf918b08424e98f38b5ae0af88f"
   }
  }
 },
 "nbformat": 4,
 "nbformat_minor": 2
}
