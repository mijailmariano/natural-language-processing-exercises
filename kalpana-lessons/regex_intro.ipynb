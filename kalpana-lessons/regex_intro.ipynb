{
 "cells": [
  {
   "cell_type": "markdown",
   "id": "9283fa46",
   "metadata": {},
   "source": [
    "# Meet Regular Expressions\n",
    "\n",
    "## What?\n",
    "- Regular expressions (called regexes or regex patterns) are a tiny language for dealing with text and character patterns.\n",
    "- With RegEx patterns we can:\n",
    "    - Does this string match a pattern?\n",
    "    - Is there a match for the pattern anywhere in the string?\n",
    "    - Modify + split strings in various ways\n",
    "    \n",
    "re library functions\n",
    "- `re.search` scans through a string, looking for any location where the RE matches.\n",
    "- `re.findall` Finds all substrings where the RE matches; returns a list.\n",
    "- `re.split` splits a string on a given regex pattern, removing that pattern. The result is a list of a strings.\n",
    "- `re.sub` allows us to match a regex and substitute in a new substring for the match.\n",
    "\n",
    "\n",
    "## So What?\n",
    "- Power + precision\n",
    "    - Cost is learning something new and potentially unfamiliar.\n",
    "    - Payoff is a language that works with any other programming language to operate on text and character patterns.\n",
    "- Regular Expressions are cross platform and available in many programming languages and environments:\n",
    "    - Command line tools (Linux, Windows, Mac, etc...)\n",
    "    - Python\n",
    "    - SQL flavors offer RegEx\n",
    "    - Java (Scala/Clojure)\n",
    "    - Other languages like Julia, Ruby, PHP, C#, etc...\n",
    "    - Like SQL, there are differences between some of the different RegEx implementations, but if you know your RegEx, you can bring value in many environments.\n",
    "\n",
    "## When is RegEx the right tool or wrong tool?\n",
    "- If you can solve the problem with built-in string methods in your language, do so.\n",
    "- If you need more capability than built-in string methods\n",
    "- If you're parsing HTML, JSON, or XML, use a tool built for those formats. Regex + html/json = don't\n",
    "\n",
    "## Now What?\n",
    "- We'll start simple by writing regex patterns to match literal characters.\n",
    "- Then we will introduce metacharacters, that have special meaning and functionality.\n",
    "\n",
    "## Key Concepts\n",
    "- The RegEx metacharacters `. ^ $ * + ? { } [ ] \\ | ( )` have special meanings. \n",
    "- Square brackets create a \"character class\". \n",
    "    - Character classes allow us to specify many OR operations\n",
    "    - For example, `r\"[aeiou]\"` matches any lowercase vowel character. Identical to `r\"a|e|i|o|u\"`\n",
    "    - `r\"[a-z]\"` matches lowercase a through z.\n",
    "- Metacharacters are not active inside of the character class square brackets `[]`\n",
    "- Outside of the character class `[]`, if you need to match a metacharacter character literally, you will need to put a `\\` in front of that character. `r\"\\+\"` will match the literal `+` character.\n",
    "- RegEx has characters for special sequences:\n",
    "    - `.` matches any character\n",
    "    - `\\d` matches any numeral. Is equivalent to `[0-9]`\n",
    "    - `\\D` matches any non-digit character and is equivalent to `[^0-9]`. \n",
    "    - `\\s` matches any white space like ` `, tab, soft return, new line etc...\n",
    "    - `\\S` matches anything that is `NOT` a white space\n",
    "    - `\\w` matches any alphanumeric character and underscore. Equivalent to `[0-9a-zA-Z_]`\n",
    "    - `\\W` matches any non-alphanumeric character. Equivalent to `[^a-zA-Z0-9_]`\n",
    "- `.` Matches any character\n",
    "- Repetition:\n",
    "    - `*` matches zero or more of the previous pattern\n",
    "    - `+` matches 1 or more of the previous pattern\n",
    "- `?` after a pattern means that pattern is optional\n",
    "- Not - `[^abc]` matches anything but \"a\" or \"b\" or \"c\"\n",
    "- Anchors\n",
    "    - `^` start\n",
    "    - `$` end\n",
    "    - `\\b` word boundary\n",
    "- Groups\n",
    "    - `(a)`\n",
    "\n",
    "## How Deep Does RegEx go?\n",
    "- For challenging strings to match, like email addresses, recommend using pre-built RegEx specifications like  the HTML specification at https://html.spec.whatwg.org/multipage/forms.html#valid-e-mail-address\n",
    "- With known, good, and proven RegEx patterns like these, you don't need to reinvent things.\n",
    "- ```r\"^[a-zA-Z0-9.!#$%&'*+/=?^_`{|}~-]+@[a-zA-Z0-9](?:[a-zA-Z0-9-]{0,61}[a-zA-Z0-9])?(?:\\.[a-zA-Z0-9](?:[a-zA-Z0-9-]{0,61}[a-zA-Z0-9])?)*$\"```\n"
   ]
  },
  {
   "cell_type": "code",
   "execution_count": 109,
   "id": "fdb0df63",
   "metadata": {},
   "outputs": [],
   "source": [
    "import re\n",
    "import pandas as pd"
   ]
  },
  {
   "cell_type": "markdown",
   "id": "935082af",
   "metadata": {},
   "source": [
    "### Patterns to Match Literals \n",
    "> Crawl before you walk"
   ]
  },
  {
   "cell_type": "code",
   "execution_count": 110,
   "id": "f795d9a2",
   "metadata": {
    "scrolled": true
   },
   "outputs": [
    {
     "data": {
      "text/plain": [
       "'Two households, both alike in dignity, In fair Verona, where we lay our scene, From ancient grudge break to new mutiny, Where civil blood makes civil hands unclean.'"
      ]
     },
     "execution_count": 110,
     "metadata": {},
     "output_type": "execute_result"
    }
   ],
   "source": [
    "string = \"Two households, both alike in dignity, In fair Verona, where we lay our scene, From ancient grudge break to new mutiny, Where civil blood makes civil hands unclean.\"\n",
    "string"
   ]
  },
  {
   "cell_type": "code",
   "execution_count": 111,
   "id": "ddfcd68e",
   "metadata": {},
   "outputs": [
    {
     "data": {
      "text/plain": [
       "<re.Match object; span=(47, 53), match='Verona'>"
      ]
     },
     "execution_count": 111,
     "metadata": {},
     "output_type": "execute_result"
    }
   ],
   "source": [
    "# We can search for a literal match of the string Verona\n",
    "# re.search(r\"pattern\", \"our subject\")\n",
    "x = re.search(r\"Verona\", string)\n",
    "x"
   ]
  },
  {
   "cell_type": "code",
   "execution_count": 112,
   "id": "34c0736d",
   "metadata": {},
   "outputs": [
    {
     "data": {
      "text/plain": [
       "'Verona'"
      ]
     },
     "execution_count": 112,
     "metadata": {},
     "output_type": "execute_result"
    }
   ],
   "source": [
    "# the span returned is the index. \n",
    "# Consider if we were to splice the string using the span bounds\n",
    "string[47:53]"
   ]
  },
  {
   "cell_type": "code",
   "execution_count": 113,
   "id": "755f59ae",
   "metadata": {},
   "outputs": [
    {
     "data": {
      "text/plain": [
       "<re.Match object; span=(39, 53), match='In fair Verona'>"
      ]
     },
     "execution_count": 113,
     "metadata": {},
     "output_type": "execute_result"
    }
   ],
   "source": [
    "re.search(r\"In fair Verona\", string)"
   ]
  },
  {
   "cell_type": "code",
   "execution_count": 114,
   "id": "cfe97a67",
   "metadata": {},
   "outputs": [],
   "source": [
    "# The string \"Leonardo DiCaprio\" is not here, so re.search returns None\n",
    "re.search(r\"Leonardo DiCaprio\", string)"
   ]
  },
  {
   "cell_type": "code",
   "execution_count": 115,
   "id": "8ccd03c4",
   "metadata": {},
   "outputs": [
    {
     "data": {
      "text/plain": [
       "<re.Match object; span=(126, 131), match='civil'>"
      ]
     },
     "execution_count": 115,
     "metadata": {},
     "output_type": "execute_result"
    }
   ],
   "source": [
    "# re.search returns the first match\n",
    "re.search(r\"civil\", string)"
   ]
  },
  {
   "cell_type": "code",
   "execution_count": 116,
   "id": "80942b16",
   "metadata": {},
   "outputs": [
    {
     "data": {
      "text/plain": [
       "['civil', 'civil']"
      ]
     },
     "execution_count": 116,
     "metadata": {},
     "output_type": "execute_result"
    }
   ],
   "source": [
    "# .findall returns all matches\n",
    "re.findall(r\"civil\", string)"
   ]
  },
  {
   "cell_type": "code",
   "execution_count": 117,
   "id": "4f81eb50",
   "metadata": {},
   "outputs": [
    {
     "data": {
      "text/plain": [
       "[]"
      ]
     },
     "execution_count": 117,
     "metadata": {},
     "output_type": "execute_result"
    }
   ],
   "source": [
    "# empty set for no matches with .findall\n",
    "re.findall(r\"Claire Danes\", string)"
   ]
  },
  {
   "cell_type": "code",
   "execution_count": 118,
   "id": "672c8b72",
   "metadata": {},
   "outputs": [
    {
     "data": {
      "text/plain": [
       "<re.Match object; span=(0, 3), match='Two'>"
      ]
     },
     "execution_count": 118,
     "metadata": {},
     "output_type": "execute_result"
    }
   ],
   "source": [
    "re.search(r\"Two\", string)"
   ]
  },
  {
   "cell_type": "code",
   "execution_count": 119,
   "id": "d6e9c4f4",
   "metadata": {},
   "outputs": [],
   "source": [
    "# Are computers particular on specifics?\n",
    "re.search(r\"two\", string)"
   ]
  },
  {
   "cell_type": "code",
   "execution_count": 120,
   "id": "a58afdde",
   "metadata": {},
   "outputs": [
    {
     "data": {
      "text/plain": [
       "<re.Match object; span=(0, 3), match='Two'>"
      ]
     },
     "execution_count": 120,
     "metadata": {},
     "output_type": "execute_result"
    }
   ],
   "source": [
    "# The re.IGNORECASE flag does exactly that\n",
    "re.search(r\"two\", string, re.IGNORECASE)"
   ]
  },
  {
   "cell_type": "code",
   "execution_count": 121,
   "id": "7eac3e7e",
   "metadata": {},
   "outputs": [
    {
     "data": {
      "text/plain": [
       "<re.Match object; span=(0, 1), match='a'>"
      ]
     },
     "execution_count": 121,
     "metadata": {},
     "output_type": "execute_result"
    }
   ],
   "source": [
    "re.search(r\"A\", \"aaaaaa\", re.IGNORECASE)"
   ]
  },
  {
   "cell_type": "code",
   "execution_count": 122,
   "id": "223f3e2c",
   "metadata": {},
   "outputs": [
    {
     "data": {
      "text/plain": [
       "<re.Match object; span=(0, 5), match='aaaaa'>"
      ]
     },
     "execution_count": 122,
     "metadata": {},
     "output_type": "execute_result"
    }
   ],
   "source": [
    "re.search(r\"Aaaaa\", \"aaaaaa\", re.IGNORECASE)"
   ]
  },
  {
   "cell_type": "markdown",
   "id": "857d51d1",
   "metadata": {},
   "source": [
    "## Using `|` for a logical OR to open opportunities\n",
    "- We can use `|` with literal characters or other regular expression patterns"
   ]
  },
  {
   "cell_type": "code",
   "execution_count": 123,
   "id": "971d7d94",
   "metadata": {},
   "outputs": [
    {
     "data": {
      "text/plain": [
       "['grey', 'gray', 'gray', 'grey']"
      ]
     },
     "execution_count": 123,
     "metadata": {},
     "output_type": "execute_result"
    }
   ],
   "source": [
    "# OR\n",
    "# Findall returns all matches \n",
    "re.findall(r\"gray|grey\", \"I can't remember if you spell grey gray or gray like grey!\")"
   ]
  },
  {
   "cell_type": "code",
   "execution_count": 124,
   "id": "47b73648",
   "metadata": {},
   "outputs": [
    {
     "data": {
      "text/plain": [
       "<re.Match object; span=(12, 17), match='apple'>"
      ]
     },
     "execution_count": 124,
     "metadata": {},
     "output_type": "execute_result"
    }
   ],
   "source": [
    "# The .search method matches only the first match\n",
    "x = re.search(r\"orange|apple\", \"I like both apples and oranges\")\n",
    "x"
   ]
  },
  {
   "cell_type": "code",
   "execution_count": 125,
   "id": "19dc9e16",
   "metadata": {},
   "outputs": [
    {
     "data": {
      "text/plain": [
       "['this', 'that']"
      ]
     },
     "execution_count": 125,
     "metadata": {},
     "output_type": "execute_result"
    }
   ],
   "source": [
    "re.findall(r\"this|that\", \"this that and the other\")"
   ]
  },
  {
   "cell_type": "code",
   "execution_count": 126,
   "id": "a33c092c",
   "metadata": {},
   "outputs": [
    {
     "data": {
      "text/plain": [
       "<re.Match object; span=(1, 2), match='a'>"
      ]
     },
     "execution_count": 126,
     "metadata": {},
     "output_type": "execute_result"
    }
   ],
   "source": [
    "# has a vowel, anywhere\n",
    "re.search(r\"a|e|i|o|u\", \"banana\", re.IGNORECASE)"
   ]
  },
  {
   "cell_type": "code",
   "execution_count": 127,
   "id": "120b4858",
   "metadata": {},
   "outputs": [
    {
     "data": {
      "text/plain": [
       "['a', 'a', 'a']"
      ]
     },
     "execution_count": 127,
     "metadata": {},
     "output_type": "execute_result"
    }
   ],
   "source": [
    "re.findall(r\"[aeiou]\", \"banana\", re.IGNORECASE)"
   ]
  },
  {
   "cell_type": "code",
   "execution_count": 128,
   "id": "b1046aa2",
   "metadata": {},
   "outputs": [
    {
     "data": {
      "text/plain": [
       "['a', 'a', 'a']"
      ]
     },
     "execution_count": 128,
     "metadata": {},
     "output_type": "execute_result"
    }
   ],
   "source": [
    "re.findall(r\"a|e|i|o|u\", \"banana\", re.IGNORECASE)"
   ]
  },
  {
   "cell_type": "code",
   "execution_count": 129,
   "id": "ab6361ea",
   "metadata": {},
   "outputs": [
    {
     "data": {
      "text/plain": [
       "<re.Match object; span=(0, 10), match='bananarama'>"
      ]
     },
     "execution_count": 129,
     "metadata": {},
     "output_type": "execute_result"
    }
   ],
   "source": [
    "# carot is starts-with\n",
    "# . is any character\n",
    "# * is zero or more\n",
    "re.search(r\"^b.*\", \"bananarama\")"
   ]
  },
  {
   "cell_type": "code",
   "execution_count": null,
   "id": "26b3ec8a",
   "metadata": {},
   "outputs": [],
   "source": [
    "# carot is starts-with\n",
    "# . is any character\n",
    "# * is zero or more\n",
    "re.search(r\"^b.*\", \"bananarama\")"
   ]
  },
  {
   "cell_type": "code",
   "execution_count": 130,
   "id": "72e883b1",
   "metadata": {},
   "outputs": [
    {
     "data": {
      "text/plain": [
       "<re.Match object; span=(0, 17), match='bananarama pajama'>"
      ]
     },
     "execution_count": 130,
     "metadata": {},
     "output_type": "execute_result"
    }
   ],
   "source": [
    "# .* finds the largest possible match\n",
    "# technical term is greedy\n",
    "re.search(r\"^b.*\", \"bananarama pajama\")"
   ]
  },
  {
   "cell_type": "code",
   "execution_count": 131,
   "id": "a797cd6d",
   "metadata": {},
   "outputs": [
    {
     "data": {
      "text/plain": [
       "<re.Match object; span=(0, 10), match='bananarama'>"
      ]
     },
     "execution_count": 131,
     "metadata": {},
     "output_type": "execute_result"
    }
   ],
   "source": [
    "# match b then 1 or more alphanumerics for a word\n",
    "# \\w means any a-zA-Z0-9_\n",
    "# + means 1 or more letters\n",
    "# when the pattern hits the \" \" before pajama, we're done\n",
    "re.search(r\"^b\\w+\", \"bananarama pajama\")"
   ]
  },
  {
   "cell_type": "code",
   "execution_count": 132,
   "id": "fd97a618",
   "metadata": {},
   "outputs": [
    {
     "data": {
      "text/plain": [
       "<re.Match object; span=(0, 2), match='be'>"
      ]
     },
     "execution_count": 132,
     "metadata": {},
     "output_type": "execute_result"
    }
   ],
   "source": [
    "# match b then 1 or more alphanumerics for a word\n",
    "# \\w means any a-zA-Z0-9_\n",
    "# + means 1 or more letters\n",
    "# when the pattern hits the \" \" before pajama, we're done\n",
    "re.search(r\"^b\\w+\", \"be cool\")"
   ]
  },
  {
   "cell_type": "code",
   "execution_count": 133,
   "id": "e776ab84",
   "metadata": {},
   "outputs": [],
   "source": [
    "# match b then 1 or more alphanumerics for a word\n",
    "# \\w means any a-zA-Z0-9_\n",
    "# + means 1 or more letters\n",
    "# when the pattern hits the \" \" before pajama, we're done\n",
    "re.search(r\"^b\\w+\", \"b cool\")"
   ]
  },
  {
   "cell_type": "code",
   "execution_count": 134,
   "id": "e570a876",
   "metadata": {},
   "outputs": [
    {
     "data": {
      "text/plain": [
       "<re.Match object; span=(0, 1), match='b'>"
      ]
     },
     "execution_count": 134,
     "metadata": {},
     "output_type": "execute_result"
    }
   ],
   "source": [
    "# match b then 1 or more alphanumerics for a word\n",
    "# \\w means any a-zA-Z0-9_\n",
    "# + means 1 or more letters\n",
    "# when the pattern hits the \" \" before pajama, we're done\n",
    "re.search(r\"^b\\w*\", \"b cool\")"
   ]
  },
  {
   "cell_type": "code",
   "execution_count": 135,
   "id": "0d2d96f7",
   "metadata": {},
   "outputs": [
    {
     "data": {
      "text/plain": [
       "<re.Match object; span=(0, 10), match='bananarama'>"
      ]
     },
     "execution_count": 135,
     "metadata": {},
     "output_type": "execute_result"
    }
   ],
   "source": [
    "# .* finds the largest possible match\n",
    "# technical term is greedy\n",
    "re.search(r\"^b\\w*\\b\", \"bananarama pajama\")"
   ]
  },
  {
   "cell_type": "code",
   "execution_count": 136,
   "id": "4a6ff488",
   "metadata": {},
   "outputs": [
    {
     "data": {
      "text/plain": [
       "<re.Match object; span=(6, 10), match='bana'>"
      ]
     },
     "execution_count": 136,
     "metadata": {},
     "output_type": "execute_result"
    }
   ],
   "source": [
    "# match the character b then any other character\n",
    "re.search(r\"b...\", \"hello bananarama pajama\")"
   ]
  },
  {
   "cell_type": "code",
   "execution_count": 137,
   "id": "c2be0336",
   "metadata": {},
   "outputs": [
    {
     "data": {
      "text/plain": [
       "<re.Match object; span=(6, 10), match='bana'>"
      ]
     },
     "execution_count": 137,
     "metadata": {},
     "output_type": "execute_result"
    }
   ],
   "source": [
    "# match the character b then any other character\n",
    "re.search(r\"b\\w\\w\\w\", \"hello bananarama pajama\")"
   ]
  },
  {
   "cell_type": "code",
   "execution_count": 138,
   "id": "d2efefce",
   "metadata": {},
   "outputs": [
    {
     "data": {
      "text/plain": [
       "<re.Match object; span=(6, 10), match='bana'>"
      ]
     },
     "execution_count": 138,
     "metadata": {},
     "output_type": "execute_result"
    }
   ],
   "source": [
    "# match b followed by 3 of any character\n",
    "re.search(r\"b.{3}\", \"hello bananarama pajama\")"
   ]
  },
  {
   "cell_type": "code",
   "execution_count": 139,
   "id": "2c92a9cc",
   "metadata": {},
   "outputs": [
    {
     "data": {
      "text/plain": [
       "<re.Match object; span=(6, 17), match='bananarama '>"
      ]
     },
     "execution_count": 139,
     "metadata": {},
     "output_type": "execute_result"
    }
   ],
   "source": [
    "re.search(r\"b.* \", \"hello bananarama pajama\")"
   ]
  },
  {
   "cell_type": "code",
   "execution_count": 140,
   "id": "d5adfa7f",
   "metadata": {},
   "outputs": [
    {
     "data": {
      "text/plain": [
       "<re.Match object; span=(0, 1), match='h'>"
      ]
     },
     "execution_count": 140,
     "metadata": {},
     "output_type": "execute_result"
    }
   ],
   "source": [
    "# [^abc] as \"anything that ain't a or b or c\"\n",
    "re.search(r\"[^b]\", \"hello bananarama pajama\")"
   ]
  },
  {
   "cell_type": "code",
   "execution_count": 141,
   "id": "74e29aaf",
   "metadata": {},
   "outputs": [],
   "source": [
    "# let's find something that starts with a then has any number of other characters\n",
    "re.search(r\"^a.*\", \"hello bananarama pajama\")"
   ]
  },
  {
   "cell_type": "code",
   "execution_count": 142,
   "id": "1bd5da00",
   "metadata": {},
   "outputs": [
    {
     "data": {
      "text/plain": [
       "<re.Match object; span=(6, 23), match='bananarama pajama'>"
      ]
     },
     "execution_count": 142,
     "metadata": {},
     "output_type": "execute_result"
    }
   ],
   "source": [
    "re.search(r\"ban.*\", \"hello bananarama pajama\")"
   ]
  },
  {
   "cell_type": "code",
   "execution_count": 143,
   "id": "6fa16056",
   "metadata": {},
   "outputs": [
    {
     "data": {
      "text/plain": [
       "<re.Match object; span=(7, 23), match='ananarama pajama'>"
      ]
     },
     "execution_count": 143,
     "metadata": {},
     "output_type": "execute_result"
    }
   ],
   "source": [
    "re.search(r\"a.*\", \"hello bananarama pajama\")"
   ]
  },
  {
   "cell_type": "code",
   "execution_count": 144,
   "id": "42e3f407",
   "metadata": {},
   "outputs": [
    {
     "data": {
      "text/plain": [
       "<re.Match object; span=(7, 23), match='ananarama pajama'>"
      ]
     },
     "execution_count": 144,
     "metadata": {},
     "output_type": "execute_result"
    }
   ],
   "source": [
    "re.search(r\"a.+\", \"hello bananarama pajama\")"
   ]
  },
  {
   "cell_type": "code",
   "execution_count": 145,
   "id": "36b6267d",
   "metadata": {},
   "outputs": [
    {
     "data": {
      "text/plain": [
       "<re.Match object; span=(0, 17), match='bananarama pajama'>"
      ]
     },
     "execution_count": 145,
     "metadata": {},
     "output_type": "execute_result"
    }
   ],
   "source": [
    "# starts with\n",
    "# anything\n",
    "# ends with \n",
    "re.search(r\"^b.*a\", \"bananarama pajama\")"
   ]
  },
  {
   "cell_type": "code",
   "execution_count": 146,
   "id": "61b9b3aa",
   "metadata": {},
   "outputs": [
    {
     "data": {
      "text/plain": [
       "<re.Match object; span=(0, 10), match='bananarama'>"
      ]
     },
     "execution_count": 146,
     "metadata": {},
     "output_type": "execute_result"
    }
   ],
   "source": [
    "# starts with\n",
    "# anything\n",
    "# ends with \n",
    "re.search(r\"^b\\w+\", \"bananarama pajama\")"
   ]
  },
  {
   "cell_type": "code",
   "execution_count": 147,
   "id": "4b2b4fcd",
   "metadata": {},
   "outputs": [
    {
     "data": {
      "text/plain": [
       "<re.Match object; span=(0, 17), match='bananarama pajama'>"
      ]
     },
     "execution_count": 147,
     "metadata": {},
     "output_type": "execute_result"
    }
   ],
   "source": [
    "re.search(r\".*jama$\", \"bananarama pajama\")"
   ]
  },
  {
   "cell_type": "code",
   "execution_count": 148,
   "id": "d302b3f5",
   "metadata": {},
   "outputs": [
    {
     "data": {
      "text/plain": [
       "<re.Match object; span=(0, 10), match='bananarama'>"
      ]
     },
     "execution_count": 148,
     "metadata": {},
     "output_type": "execute_result"
    }
   ],
   "source": [
    "re.search(r\".*rama\", \"bananarama pajama\")"
   ]
  },
  {
   "cell_type": "code",
   "execution_count": 149,
   "id": "e28919dc",
   "metadata": {},
   "outputs": [
    {
     "data": {
      "text/plain": [
       "<re.Match object; span=(0, 1), match='a'>"
      ]
     },
     "execution_count": 149,
     "metadata": {},
     "output_type": "execute_result"
    }
   ],
   "source": [
    "# \\w matches [a-zA-Z0-9_]\n",
    "re.search(r\"\\w\", \"abc123\")"
   ]
  },
  {
   "cell_type": "code",
   "execution_count": 150,
   "id": "f9d77965",
   "metadata": {},
   "outputs": [
    {
     "data": {
      "text/plain": [
       "<re.Match object; span=(0, 2), match='ab'>"
      ]
     },
     "execution_count": 150,
     "metadata": {},
     "output_type": "execute_result"
    }
   ],
   "source": [
    "# \\w matches [a-zA-Z0-9_]\n",
    "re.search(r\"\\w\\w\", \"abc123\")"
   ]
  },
  {
   "cell_type": "code",
   "execution_count": 151,
   "id": "e06f8717",
   "metadata": {},
   "outputs": [
    {
     "data": {
      "text/plain": [
       "<re.Match object; span=(0, 4), match='abc1'>"
      ]
     },
     "execution_count": 151,
     "metadata": {},
     "output_type": "execute_result"
    }
   ],
   "source": [
    "# \\w matches [a-zA-Z0-9_]\n",
    "re.search(r\"\\w{4}\", \"abc123\")"
   ]
  },
  {
   "cell_type": "code",
   "execution_count": 152,
   "id": "67c02349",
   "metadata": {},
   "outputs": [
    {
     "data": {
      "text/plain": [
       "<re.Match object; span=(0, 1), match='F'>"
      ]
     },
     "execution_count": 152,
     "metadata": {},
     "output_type": "execute_result"
    }
   ],
   "source": [
    "# + metacharacter matches 1 or more of the pattern to the left of that + character\n",
    "# + is greedy like *\n",
    "re.search(r\"f|F+\", \"Fred asked a great question\")"
   ]
  },
  {
   "cell_type": "code",
   "execution_count": 153,
   "id": "73cedb25",
   "metadata": {},
   "outputs": [
    {
     "data": {
      "text/plain": [
       "<re.Match object; span=(0, 30), match='F money asked a great question'>"
      ]
     },
     "execution_count": 153,
     "metadata": {},
     "output_type": "execute_result"
    }
   ],
   "source": [
    "# + metacharacter matches 1 or more of the pattern to the left of that + character\n",
    "# + is greedy like *\n",
    "re.search(r\"f|F.*\", \"F money asked a great question\")"
   ]
  },
  {
   "cell_type": "code",
   "execution_count": 154,
   "id": "85d09b28",
   "metadata": {},
   "outputs": [
    {
     "data": {
      "text/plain": [
       "<re.Match object; span=(0, 5), match='stuff'>"
      ]
     },
     "execution_count": 154,
     "metadata": {},
     "output_type": "execute_result"
    }
   ],
   "source": [
    "# what if we want only letters and not letters + numbers + _ character\n",
    "re.search(r\"[a-zA-Z]*\", \"stuff and things and 123\")"
   ]
  },
  {
   "cell_type": "code",
   "execution_count": 155,
   "id": "d8ffd2c0",
   "metadata": {},
   "outputs": [
    {
     "data": {
      "text/plain": [
       "['stuff', 'a', 'nd', 'things', 'and']"
      ]
     },
     "execution_count": 155,
     "metadata": {},
     "output_type": "execute_result"
    }
   ],
   "source": [
    "# what if we want only letters and not letters + numbers + _ character\n",
    "# the [a-z]+ is finding any and all sequences that are only [a-zA-Z]\n",
    "re.findall(r\"[a-zA-Z]+\", \"42 $stuff a****nd things and 123\")"
   ]
  },
  {
   "cell_type": "markdown",
   "id": "b4965013",
   "metadata": {},
   "source": [
    "## Difference between `*` and `+`"
   ]
  },
  {
   "cell_type": "code",
   "execution_count": 156,
   "id": "6c51c326",
   "metadata": {},
   "outputs": [],
   "source": [
    "# Match F and one or more of a a-zA-Z0-9 character\n",
    "# Does not match F on its own\n",
    "re.search(r\"F\\w+\\s\", \"F money asked a great question\")"
   ]
  },
  {
   "cell_type": "code",
   "execution_count": 157,
   "id": "a1f80d97",
   "metadata": {},
   "outputs": [
    {
     "data": {
      "text/plain": [
       "<re.Match object; span=(0, 2), match='F '>"
      ]
     },
     "execution_count": 157,
     "metadata": {},
     "output_type": "execute_result"
    }
   ],
   "source": [
    "# Match F then zero or more of a-zA-Z0-9\n",
    "re.search(r\"F\\w*\\s\", \"F money asked a great question\")"
   ]
  },
  {
   "cell_type": "code",
   "execution_count": 158,
   "id": "81f50802",
   "metadata": {},
   "outputs": [
    {
     "data": {
      "text/plain": [
       "<re.Match object; span=(0, 1), match='F'>"
      ]
     },
     "execution_count": 158,
     "metadata": {},
     "output_type": "execute_result"
    }
   ],
   "source": [
    "# Match F then zero or more of a-zA-Z0-9\n",
    "re.search(r\"F\\w{,4}\", \"F money asked a great question\")"
   ]
  },
  {
   "cell_type": "code",
   "execution_count": 159,
   "id": "2533b324",
   "metadata": {},
   "outputs": [
    {
     "data": {
      "text/plain": [
       "<re.Match object; span=(0, 4), match='Fred'>"
      ]
     },
     "execution_count": 159,
     "metadata": {},
     "output_type": "execute_result"
    }
   ],
   "source": [
    "# Match F then zero or more of a-zA-Z0-9\n",
    "re.search(r\"F\\w{,4}\", \"Fred asked a great question\")"
   ]
  },
  {
   "cell_type": "code",
   "execution_count": null,
   "id": "ed6ab439",
   "metadata": {},
   "outputs": [],
   "source": []
  },
  {
   "cell_type": "code",
   "execution_count": 160,
   "id": "4325d124",
   "metadata": {},
   "outputs": [
    {
     "data": {
      "text/plain": [
       "<re.Match object; span=(0, 3), match='abc'>"
      ]
     },
     "execution_count": 160,
     "metadata": {},
     "output_type": "execute_result"
    }
   ],
   "source": [
    "re.search(r\"\\w\\w\\w\", \"abc123\")"
   ]
  },
  {
   "cell_type": "code",
   "execution_count": null,
   "id": "29c1a5c1",
   "metadata": {},
   "outputs": [],
   "source": []
  },
  {
   "cell_type": "code",
   "execution_count": 161,
   "id": "3a24431b",
   "metadata": {},
   "outputs": [
    {
     "data": {
      "text/plain": [
       "<re.Match object; span=(0, 6), match='abc123'>"
      ]
     },
     "execution_count": 161,
     "metadata": {},
     "output_type": "execute_result"
    }
   ],
   "source": [
    "re.search(r\"\\w\\w\\w\\w\\w\\w\", \"abc123\")"
   ]
  },
  {
   "cell_type": "code",
   "execution_count": 162,
   "id": "f9517d4e",
   "metadata": {},
   "outputs": [],
   "source": [
    "# seven \\w characters will only match seven of any [a-zA-Z0-9]\n",
    "re.search(r\"\\w\\w\\w\\w\\w\\w\\w\", \"abc123\")"
   ]
  },
  {
   "cell_type": "code",
   "execution_count": 163,
   "id": "aa999c79",
   "metadata": {},
   "outputs": [
    {
     "data": {
      "text/plain": [
       "<re.Match object; span=(0, 12), match='abc123def456'>"
      ]
     },
     "execution_count": 163,
     "metadata": {},
     "output_type": "execute_result"
    }
   ],
   "source": [
    "re.search(r\"\\w*\", \"abc123def456\")"
   ]
  },
  {
   "cell_type": "code",
   "execution_count": 164,
   "id": "97f655bc",
   "metadata": {},
   "outputs": [
    {
     "data": {
      "text/plain": [
       "<re.Match object; span=(0, 3), match='abc'>"
      ]
     },
     "execution_count": 164,
     "metadata": {},
     "output_type": "execute_result"
    }
   ],
   "source": [
    "# curly braces for repetition\n",
    "re.search(r\"\\w{3}\", \"abc123\")"
   ]
  },
  {
   "cell_type": "code",
   "execution_count": 165,
   "id": "1810aaa1",
   "metadata": {},
   "outputs": [
    {
     "data": {
      "text/plain": [
       "<re.Match object; span=(0, 6), match='abc123'>"
      ]
     },
     "execution_count": 165,
     "metadata": {},
     "output_type": "execute_result"
    }
   ],
   "source": [
    "re.search(r\"\\w{1,6}\", \"abc123\")"
   ]
  },
  {
   "cell_type": "code",
   "execution_count": 166,
   "id": "352937ce",
   "metadata": {},
   "outputs": [
    {
     "data": {
      "text/plain": [
       "<re.Match object; span=(0, 6), match='abc123'>"
      ]
     },
     "execution_count": 166,
     "metadata": {},
     "output_type": "execute_result"
    }
   ],
   "source": [
    "# {n,} matches n or more times\n",
    "re.search(r\"\\w{1,}\", \"abc123 is the place to be\")"
   ]
  },
  {
   "cell_type": "code",
   "execution_count": 167,
   "id": "127bdcb3",
   "metadata": {},
   "outputs": [
    {
     "data": {
      "text/plain": [
       "<re.Match object; span=(0, 6), match='abc123'>"
      ]
     },
     "execution_count": 167,
     "metadata": {},
     "output_type": "execute_result"
    }
   ],
   "source": [
    "# {n,} matches n or more times\n",
    "# \\w+ means one or more alphanumerics\n",
    "# \\w{1,} means the same thing\n",
    "re.search(r\"\\w+\", \"abc123 is the place to be\")"
   ]
  },
  {
   "cell_type": "code",
   "execution_count": 168,
   "id": "530f0b3e",
   "metadata": {},
   "outputs": [
    {
     "data": {
      "text/plain": [
       "['abc123', 'is', 'the', 'place', 'to', 'be']"
      ]
     },
     "execution_count": 168,
     "metadata": {},
     "output_type": "execute_result"
    }
   ],
   "source": [
    "# {n,} matches n or more times\n",
    "re.findall(r\"\\w{1,}\", \"abc123 is the place to be\")"
   ]
  },
  {
   "cell_type": "code",
   "execution_count": 169,
   "id": "2b2afd0b",
   "metadata": {},
   "outputs": [
    {
     "data": {
      "text/plain": [
       "['abc123',\n",
       " '',\n",
       " 'is',\n",
       " '',\n",
       " 'the',\n",
       " '',\n",
       " 'place',\n",
       " '',\n",
       " 'to',\n",
       " '',\n",
       " 'be',\n",
       " '',\n",
       " 'banara',\n",
       " 'mapaja',\n",
       " 'ma',\n",
       " '']"
      ]
     },
     "execution_count": 169,
     "metadata": {},
     "output_type": "execute_result"
    }
   ],
   "source": [
    "# {n,} matches n or more times\n",
    "re.findall(r\"\\w{0,6}\", \"abc123 is the place to be banaramapajama\")"
   ]
  },
  {
   "cell_type": "code",
   "execution_count": 170,
   "id": "73f7817a",
   "metadata": {},
   "outputs": [
    {
     "data": {
      "text/plain": [
       "['abc123 ', 'is ', 'the ', 'place ', 'to ', 'be ']"
      ]
     },
     "execution_count": 170,
     "metadata": {},
     "output_type": "execute_result"
    }
   ],
   "source": [
    "# {n,} matches n or more times\n",
    "# space after the 1-6 alphanumeric \\w matches\n",
    "re.findall(r\"\\w{1,6} \", \"abc123 is the place to be banaramapajama\")"
   ]
  },
  {
   "cell_type": "code",
   "execution_count": 171,
   "id": "5bca7a90",
   "metadata": {},
   "outputs": [
    {
     "data": {
      "text/plain": [
       "<re.Match object; span=(0, 6), match='abc123'>"
      ]
     },
     "execution_count": 171,
     "metadata": {},
     "output_type": "execute_result"
    }
   ],
   "source": [
    "# {n,} matches n or more times\n",
    "re.search(r\"\\w{1,6}\", \"abc123 is the place to be banaramapajama\")"
   ]
  },
  {
   "cell_type": "code",
   "execution_count": 172,
   "id": "f21315ca",
   "metadata": {},
   "outputs": [
    {
     "data": {
      "text/plain": [
       "<re.Match object; span=(0, 6), match='abc123'>"
      ]
     },
     "execution_count": 172,
     "metadata": {},
     "output_type": "execute_result"
    }
   ],
   "source": [
    "# {n,} matches n or more times\n",
    "re.search(r\"\\w{2,6}\", \"abc123\")"
   ]
  },
  {
   "cell_type": "code",
   "execution_count": 173,
   "id": "3dddeaa7",
   "metadata": {},
   "outputs": [
    {
     "data": {
      "text/plain": [
       "['abc123', 'is', 'the', 'place', 'to', 'be']"
      ]
     },
     "execution_count": 173,
     "metadata": {},
     "output_type": "execute_result"
    }
   ],
   "source": [
    "# r\"\\w+\" is the same as r\"\\w{1,}\"\n",
    "re.findall(r\"\\w+\", \"abc123 is the place to be\")"
   ]
  },
  {
   "cell_type": "code",
   "execution_count": 174,
   "id": "d530fddb",
   "metadata": {},
   "outputs": [
    {
     "data": {
      "text/plain": [
       "<re.Match object; span=(0, 8), match='226-3232'>"
      ]
     },
     "execution_count": 174,
     "metadata": {},
     "output_type": "execute_result"
    }
   ],
   "source": [
    "# 3 digits then a single character of any then 4 digits\n",
    "re.search(r\"[0-9]{3}.[0-9]{4}\", \"226-3232\")"
   ]
  },
  {
   "cell_type": "code",
   "execution_count": 175,
   "id": "e722502f",
   "metadata": {},
   "outputs": [
    {
     "data": {
      "text/plain": [
       "<re.Match object; span=(0, 8), match='226.3232'>"
      ]
     },
     "execution_count": 175,
     "metadata": {},
     "output_type": "execute_result"
    }
   ],
   "source": [
    "# 3 digits then a single character of any then 4 digits\n",
    "re.search(r\"[0-9]{3}.[0-9]{4}\", \"226.3232\")"
   ]
  },
  {
   "cell_type": "code",
   "execution_count": 176,
   "id": "08e90387",
   "metadata": {},
   "outputs": [],
   "source": [
    "# What if the delimiter is optional?\n",
    "# question mark metacharacter means the thing to the left of the ? is optional\n",
    "re.search(r\"[0-9]{3}.[0-9]{4}\", \"2263232\")\n"
   ]
  },
  {
   "cell_type": "code",
   "execution_count": 177,
   "id": "30a1a6ec",
   "metadata": {},
   "outputs": [
    {
     "data": {
      "text/plain": [
       "<re.Match object; span=(0, 7), match='2263232'>"
      ]
     },
     "execution_count": 177,
     "metadata": {},
     "output_type": "execute_result"
    }
   ],
   "source": [
    "# What if the delimiter is optional?\n",
    "# question mark metacharacter means the thing to the left of the ? is optional\n",
    "re.search(r\"[0-9]{3}.?[0-9]{4}\", \"2263232\")\n"
   ]
  },
  {
   "cell_type": "code",
   "execution_count": 178,
   "id": "be45f6d7",
   "metadata": {},
   "outputs": [
    {
     "data": {
      "text/plain": [
       "<re.Match object; span=(0, 8), match='226-3232'>"
      ]
     },
     "execution_count": 178,
     "metadata": {},
     "output_type": "execute_result"
    }
   ],
   "source": [
    "re.search(r\"[0-9]{3}.?[0-9]{4}\", \"226-3232\")\n"
   ]
  },
  {
   "cell_type": "code",
   "execution_count": 179,
   "id": "9e45513d",
   "metadata": {},
   "outputs": [
    {
     "data": {
      "text/plain": [
       "<re.Match object; span=(0, 7), match='2263232'>"
      ]
     },
     "execution_count": 179,
     "metadata": {},
     "output_type": "execute_result"
    }
   ],
   "source": [
    "re.search(r\"[0-9]{3}.?[0-9]{4}\", \"2263232\")"
   ]
  },
  {
   "cell_type": "markdown",
   "id": "95a06a11",
   "metadata": {},
   "source": [
    "## Using a RegEx pattern to split a string\n",
    "- The `re.split` method returns a list of strings\n",
    "- The matching substring is removed\n",
    "- We can split on any regex pattern, not only character literals"
   ]
  },
  {
   "cell_type": "code",
   "execution_count": 180,
   "id": "bfe7f60f",
   "metadata": {},
   "outputs": [
    {
     "data": {
      "text/plain": [
       "['210', '226', '3232']"
      ]
     },
     "execution_count": 180,
     "metadata": {},
     "output_type": "execute_result"
    }
   ],
   "source": [
    "\"210-226-3232\".split(\"-\")"
   ]
  },
  {
   "cell_type": "code",
   "execution_count": 181,
   "id": "62abee0c",
   "metadata": {},
   "outputs": [
    {
     "data": {
      "text/plain": [
       "['210', '226', '3232']"
      ]
     },
     "execution_count": 181,
     "metadata": {},
     "output_type": "execute_result"
    }
   ],
   "source": [
    "# Split the phone number on the\n",
    "re.split(r\"-| \", \"210 226 3232\")"
   ]
  },
  {
   "cell_type": "code",
   "execution_count": 182,
   "id": "c1d7b632",
   "metadata": {
    "scrolled": true
   },
   "outputs": [
    {
     "data": {
      "text/plain": [
       "['210', '226', '3232']"
      ]
     },
     "execution_count": 182,
     "metadata": {},
     "output_type": "execute_result"
    }
   ],
   "source": [
    "# Split the phone number on the\n",
    "re.split(r\"-| \", \"210-226-3232\")"
   ]
  },
  {
   "cell_type": "code",
   "execution_count": 183,
   "id": "d9a51e9e",
   "metadata": {
    "scrolled": true
   },
   "outputs": [
    {
     "data": {
      "text/plain": [
       "['this', 'that', 'and', 'the', 'other']"
      ]
     },
     "execution_count": 183,
     "metadata": {},
     "output_type": "execute_result"
    }
   ],
   "source": [
    "# Splits the string on the space character\n",
    "# The \\ is necessary\n",
    "re.split(r\" \", \"this that and the other\")"
   ]
  },
  {
   "cell_type": "code",
   "execution_count": 362,
   "id": "7d20cf95",
   "metadata": {},
   "outputs": [
    {
     "data": {
      "text/plain": [
       "\"Harry_Belafonte_-_Jump_In_the_Line.mp3,Willie_Mae_'Big_Mama'_Thornton_-_Hound_Dog.mp3,Tina_Turner_-_Proud_Mary.mp3,Prince_-_Purple_Rain.mp3\""
      ]
     },
     "execution_count": 362,
     "metadata": {},
     "output_type": "execute_result"
    }
   ],
   "source": [
    "# Parse these songs into a dataframe containing 2 columns: artist_name and song_name\n",
    "# Hint: break the string into an array of strings that hold each song/artist record\n",
    "songs = \"Harry_Belafonte_-_Jump_In_the_Line.mp3,Willie_Mae_'Big_Mama'_Thornton_-_Hound_Dog.mp3,Tina_Turner_-_Proud_Mary.mp3,Prince_-_Purple_Rain.mp3\"\n",
    "songs"
   ]
  },
  {
   "cell_type": "code",
   "execution_count": 364,
   "id": "b9477906",
   "metadata": {},
   "outputs": [
    {
     "data": {
      "text/plain": [
       "['Harry_Belafonte_-_Jump_In_the_Line.mp3',\n",
       " \"Willie_Mae_'Big_Mama'_Thornton_-_Hound_Dog.mp3\",\n",
       " 'Tina_Turner_-_Proud_Mary.mp3',\n",
       " 'Prince_-_Purple_Rain.mp3']"
      ]
     },
     "execution_count": 364,
     "metadata": {},
     "output_type": "execute_result"
    }
   ],
   "source": [
    "# splitting text on artist, and song\n",
    "\n",
    "songs = re.split(r\",\", songs)\n",
    "songs"
   ]
  },
  {
   "cell_type": "code",
   "execution_count": 377,
   "id": "e4d8533c",
   "metadata": {},
   "outputs": [
    {
     "data": {
      "text/html": [
       "<div>\n",
       "<style scoped>\n",
       "    .dataframe tbody tr th:only-of-type {\n",
       "        vertical-align: middle;\n",
       "    }\n",
       "\n",
       "    .dataframe tbody tr th {\n",
       "        vertical-align: top;\n",
       "    }\n",
       "\n",
       "    .dataframe thead th {\n",
       "        text-align: right;\n",
       "    }\n",
       "</style>\n",
       "<table border=\"1\" class=\"dataframe\">\n",
       "  <thead>\n",
       "    <tr style=\"text-align: right;\">\n",
       "      <th></th>\n",
       "      <th>artist</th>\n",
       "      <th>song_name</th>\n",
       "    </tr>\n",
       "  </thead>\n",
       "  <tbody>\n",
       "    <tr>\n",
       "      <th>0</th>\n",
       "      <td>Harry_Belafonte</td>\n",
       "      <td>Jump_In_the_Line.mp3</td>\n",
       "    </tr>\n",
       "    <tr>\n",
       "      <th>1</th>\n",
       "      <td>Willie_Mae_'Big_Mama'_Thornton</td>\n",
       "      <td>Hound_Dog.mp3</td>\n",
       "    </tr>\n",
       "    <tr>\n",
       "      <th>2</th>\n",
       "      <td>Tina_Turner</td>\n",
       "      <td>Proud_Mary.mp3</td>\n",
       "    </tr>\n",
       "    <tr>\n",
       "      <th>3</th>\n",
       "      <td>Prince</td>\n",
       "      <td>Purple_Rain.mp3</td>\n",
       "    </tr>\n",
       "  </tbody>\n",
       "</table>\n",
       "</div>"
      ],
      "text/plain": [
       "                           artist             song_name\n",
       "0                 Harry_Belafonte  Jump_In_the_Line.mp3\n",
       "1  Willie_Mae_'Big_Mama'_Thornton         Hound_Dog.mp3\n",
       "2                     Tina_Turner        Proud_Mary.mp3\n",
       "3                          Prince       Purple_Rain.mp3"
      ]
     },
     "execution_count": 377,
     "metadata": {},
     "output_type": "execute_result"
    }
   ],
   "source": [
    "# splitting text on artist, artist, and turning into a pandas datagrame\n",
    "\n",
    "\n",
    "collection = []\n",
    "\n",
    "for song in songs:\n",
    "    pieces = re.split(r\"_-_\", song)\n",
    "    output = {}\n",
    "    output[\"artist\"] = pieces[0]\n",
    "    output[\"song_name\"] = pieces[1]\n",
    "\n",
    "    collection.append(output)\n",
    "\n",
    "pd.DataFrame(collection)"
   ]
  },
  {
   "cell_type": "code",
   "execution_count": 185,
   "id": "25b838c5",
   "metadata": {},
   "outputs": [],
   "source": [
    "# re.method(pattern, subject_string, re.IGNORECASE)\n",
    "\n",
    "# re.split\n",
    "# re.search\n",
    "# re.findall"
   ]
  },
  {
   "cell_type": "markdown",
   "id": "f5636e9d",
   "metadata": {},
   "source": [
    "## [Character Classes]\n",
    "- Square brackets make character classes \n",
    "- Character classes provide OR behavior\n",
    "- In a character classe, `^` works as a \"None of\" operator\n",
    "- Metacharacters match their literal character when inside of square brackets for a character class"
   ]
  },
  {
   "cell_type": "code",
   "execution_count": 186,
   "id": "adae9f5b",
   "metadata": {},
   "outputs": [
    {
     "data": {
      "text/plain": [
       "<re.Match object; span=(1, 2), match='a'>"
      ]
     },
     "execution_count": 186,
     "metadata": {},
     "output_type": "execute_result"
    }
   ],
   "source": [
    "# has a vowel, anywhere\n",
    "re.search(r\"[aeiou]\", \"banana\", re.IGNORECASE)"
   ]
  },
  {
   "cell_type": "code",
   "execution_count": 187,
   "id": "65d0890d",
   "metadata": {},
   "outputs": [
    {
     "data": {
      "text/plain": [
       "['gray', 'grey']"
      ]
     },
     "execution_count": 187,
     "metadata": {},
     "output_type": "execute_result"
    }
   ],
   "source": [
    "# The parentheses around \n",
    "re.findall(r\"gr[ae]y\", \"Some people spell gray like grey\")"
   ]
  },
  {
   "cell_type": "code",
   "execution_count": 188,
   "id": "0cd12b75",
   "metadata": {},
   "outputs": [
    {
     "data": {
      "text/plain": [
       "<re.Match object; span=(1, 2), match='a'>"
      ]
     },
     "execution_count": 188,
     "metadata": {},
     "output_type": "execute_result"
    }
   ],
   "source": [
    "# has a vowel, anywhere\n",
    "\n",
    "re.search(r\"a|e|i|o|u\", \"banana\", re.IGNORECASE)"
   ]
  },
  {
   "cell_type": "code",
   "execution_count": 284,
   "id": "7369299b",
   "metadata": {},
   "outputs": [
    {
     "data": {
      "text/plain": [
       "<re.Match object; span=(0, 5), match='Today'>"
      ]
     },
     "execution_count": 284,
     "metadata": {},
     "output_type": "execute_result"
    }
   ],
   "source": [
    "# example:\n",
    "# say, I want to capture/return the first word in the string\n",
    "\n",
    "sample_string = \"Today is Monday, August 29th 2022\"\n",
    "\n",
    "# if I want to capture the first word in the string, I can use \\w and +\n",
    "# which means capture all alphanumeric string text thru whitespace\n",
    "\n",
    "re.search(r\"\\w+\", sample_string)"
   ]
  },
  {
   "cell_type": "code",
   "execution_count": 355,
   "id": "a0101861",
   "metadata": {},
   "outputs": [
    {
     "data": {
      "text/plain": [
       "<re.Match object; span=(29, 34), match='2022.'>"
      ]
     },
     "execution_count": 355,
     "metadata": {},
     "output_type": "execute_result"
    }
   ],
   "source": [
    "# example:\n",
    "# say, I want to capture the last word in the string\n",
    "# where \\b represents word boundary\n",
    "# and $ represents last word\n",
    "\n",
    "# expecting: \"2022\"\n",
    "# not ideal, the expression below handles what i need.\n",
    "# where \\w\\S+$ represents: look at last word in string and return all characters up to, but not including a whitespace\n",
    "\n",
    "re.search(r\"\\w\\S+$\", \"Today is Monday, August 29th 2022.\")"
   ]
  },
  {
   "cell_type": "code",
   "execution_count": 189,
   "id": "82c4a682",
   "metadata": {},
   "outputs": [
    {
     "data": {
      "text/plain": [
       "<re.Match object; span=(0, 1), match='a'>"
      ]
     },
     "execution_count": 189,
     "metadata": {},
     "output_type": "execute_result"
    }
   ],
   "source": [
    "# Is only a single vowel\n",
    "\n",
    "re.search(r\"^[aeiou]{1}$\", \"a\", re.IGNORECASE)"
   ]
  },
  {
   "cell_type": "code",
   "execution_count": 190,
   "id": "8da31325",
   "metadata": {},
   "outputs": [],
   "source": [
    "# is only a single vowel\n",
    "re.search(r\"^[aeiou]{1}$\", \"ae\", re.IGNORECASE)"
   ]
  },
  {
   "cell_type": "code",
   "execution_count": 191,
   "id": "20a89121",
   "metadata": {},
   "outputs": [
    {
     "data": {
      "text/plain": [
       "<re.Match object; span=(0, 7), match='aaeeeaa'>"
      ]
     },
     "execution_count": 191,
     "metadata": {},
     "output_type": "execute_result"
    }
   ],
   "source": [
    "# is only vowels\n",
    "re.search(r\"^[aeiou]*$\", \"aaeeeaa\")"
   ]
  },
  {
   "cell_type": "code",
   "execution_count": 192,
   "id": "f9c8080d",
   "metadata": {},
   "outputs": [
    {
     "data": {
      "text/plain": [
       "<re.Match object; span=(4, 5), match='q'>"
      ]
     },
     "execution_count": 192,
     "metadata": {},
     "output_type": "execute_result"
    }
   ],
   "source": [
    "# has a p or q, anywhere\n",
    "re.search(r\"p|q\", \"albuquerque\", re.IGNORECASE)"
   ]
  },
  {
   "cell_type": "code",
   "execution_count": 193,
   "id": "f6bc7a67",
   "metadata": {},
   "outputs": [
    {
     "data": {
      "text/plain": [
       "<re.Match object; span=(4, 5), match='q'>"
      ]
     },
     "execution_count": 193,
     "metadata": {},
     "output_type": "execute_result"
    }
   ],
   "source": [
    "# has a p or q, anywhere\n",
    "re.search(r\"[pq]\", \"albuquerque\", re.IGNORECASE)"
   ]
  },
  {
   "cell_type": "code",
   "execution_count": 194,
   "id": "83c9d632",
   "metadata": {},
   "outputs": [
    {
     "data": {
      "text/plain": [
       "<re.Match object; span=(0, 1), match='q'>"
      ]
     },
     "execution_count": 194,
     "metadata": {},
     "output_type": "execute_result"
    }
   ],
   "source": [
    "# is p or q\n",
    "re.search(r\"^[pq]{1}$\", \"q\", re.IGNORECASE)"
   ]
  },
  {
   "cell_type": "code",
   "execution_count": 195,
   "id": "6cd6f169",
   "metadata": {},
   "outputs": [
    {
     "data": {
      "text/plain": [
       "<re.Match object; span=(0, 17), match='pqpqpqpPQQQQQQQQp'>"
      ]
     },
     "execution_count": 195,
     "metadata": {},
     "output_type": "execute_result"
    }
   ],
   "source": [
    "# is only Ps and Qs\n",
    "re.search(r\"^[pqPQ]*$\", \"pqpqpqpPQQQQQQQQp\")"
   ]
  },
  {
   "cell_type": "code",
   "execution_count": 196,
   "id": "111cc9f3",
   "metadata": {},
   "outputs": [],
   "source": [
    "re.search(r\"^[pq]*$\", \"b3qwpeop\")"
   ]
  },
  {
   "cell_type": "code",
   "execution_count": 197,
   "id": "b44277a2",
   "metadata": {},
   "outputs": [
    {
     "data": {
      "text/plain": [
       "['civil blood', 'civil hands']"
      ]
     },
     "execution_count": 197,
     "metadata": {},
     "output_type": "execute_result"
    }
   ],
   "source": [
    "string = \"Two households, both alike in dignity, In fair Verona, where we lay our scene, From ancient grudge break to new mutiny, Where civil blood makes civil hands unclean.\"\n",
    "string\n",
    "\n",
    "# find all the occurences of civil followed by the word immediately after \"civil\"\n",
    "re.findall(r\"civil\\s[a-z]+\", string)\n"
   ]
  },
  {
   "cell_type": "markdown",
   "id": "b345d70f",
   "metadata": {},
   "source": [
    "## Repetition characters and Special Sequences\n",
    "\n",
    "> ``Walk before you run``\n",
    "\n",
    "- `.` means any single character\n",
    "- `*` means zero or more characters\n",
    "- `+` means one or more characters\n",
    "- `.` matches any character\n",
    "- `\\b` is a word boundary anchor\n",
    "- `\\d` matches any decimal. Is equivalent to `[0-9]`\n",
    "- `\\D` matches any non-digit character and is equivalent to `[^0-9]`. \n",
    "- `\\s` matches any white space like ` `, tab, soft return, new line etc...\n",
    "- `\\w` matches any alphanumeric character and underscore. Equivalent to `[0-9a-zA-Z_]`\n",
    "- `\\W` matches any non-alphanumeric character. Equivalent to `[^a-zA-Z0-9_]`\n",
    "- `{n)` exactly n characters\n",
    "- `{n,}` n or more characters\n",
    "- `{n, m}` n to m times"
   ]
  },
  {
   "cell_type": "code",
   "execution_count": 198,
   "id": "468da022",
   "metadata": {},
   "outputs": [
    {
     "data": {
      "text/plain": [
       "<re.Match object; span=(4, 6), match='ou'>"
      ]
     },
     "execution_count": 198,
     "metadata": {},
     "output_type": "execute_result"
    }
   ],
   "source": [
    "# world w/o \\b word boundary\n",
    "re.search(r\"o\\w+\", \"do you like apples or oranges?\")"
   ]
  },
  {
   "cell_type": "code",
   "execution_count": 199,
   "id": "264002e1",
   "metadata": {},
   "outputs": [
    {
     "data": {
      "text/plain": [
       "<re.Match object; span=(19, 21), match='or'>"
      ]
     },
     "execution_count": 199,
     "metadata": {},
     "output_type": "execute_result"
    }
   ],
   "source": [
    "# \\b means word boundary\n",
    "# any word that starts with o\n",
    "re.search(r\"\\bo\\w+\", \"do you like apples or oranges?\")"
   ]
  },
  {
   "cell_type": "code",
   "execution_count": 200,
   "id": "54d4bf68",
   "metadata": {},
   "outputs": [
    {
     "data": {
      "text/plain": [
       "['or', 'oranges']"
      ]
     },
     "execution_count": 200,
     "metadata": {},
     "output_type": "execute_result"
    }
   ],
   "source": [
    "# \\b means word boundary\n",
    "# any word that starts with o\n",
    "re.findall(r\"\\bo\\w+\", \"do you like apples or oranges?\")"
   ]
  },
  {
   "cell_type": "code",
   "execution_count": 201,
   "id": "3eb3f4cf",
   "metadata": {},
   "outputs": [
    {
     "data": {
      "text/plain": [
       "['ou', 'or', 'oranges']"
      ]
     },
     "execution_count": 201,
     "metadata": {},
     "output_type": "execute_result"
    }
   ],
   "source": [
    "# \\b means word boundary\n",
    "# any word that starts with o\n",
    "# without the word boundary, we get the \"ou\" from \"you\"\n",
    "re.findall(r\"o\\w+\", \"do you like apples or oranges?\")"
   ]
  },
  {
   "cell_type": "code",
   "execution_count": 202,
   "id": "8a541d17",
   "metadata": {},
   "outputs": [
    {
     "data": {
      "text/plain": [
       "['or', 'oranges']"
      ]
     },
     "execution_count": 202,
     "metadata": {},
     "output_type": "execute_result"
    }
   ],
   "source": [
    "# \\b means word boundary\n",
    "# any word that starts with o\n",
    "re.findall(r\"\\bo\\w+\", \"do you like apples or oranges?\")"
   ]
  },
  {
   "cell_type": "markdown",
   "id": "2f162b03",
   "metadata": {},
   "source": [
    "## Groups"
   ]
  },
  {
   "cell_type": "code",
   "execution_count": 203,
   "id": "cfcf953d",
   "metadata": {},
   "outputs": [
    {
     "data": {
      "text/plain": [
       "'You can find us on the web at https://codeup.com. Our ip address is 123.123.123.123 (maybe).'"
      ]
     },
     "execution_count": 203,
     "metadata": {},
     "output_type": "execute_result"
    }
   ],
   "source": [
    "sentence = '''\n",
    "You can find us on the web at https://codeup.com. Our ip address is 123.123.123.123 (maybe).\n",
    "'''.strip()\n",
    "sentence"
   ]
  },
  {
   "cell_type": "code",
   "execution_count": 204,
   "id": "dbadbaa0",
   "metadata": {},
   "outputs": [
    {
     "data": {
      "text/plain": [
       "'123.123.123.123'"
      ]
     },
     "execution_count": 204,
     "metadata": {},
     "output_type": "execute_result"
    }
   ],
   "source": [
    "ip_re = r'\\d+(\\.\\d+){3}'\n",
    "\n",
    "match = re.search(ip_re, sentence)\n",
    "match[0]"
   ]
  },
  {
   "cell_type": "code",
   "execution_count": 205,
   "id": "24f63b18",
   "metadata": {},
   "outputs": [
    {
     "name": "stdout",
     "output_type": "stream",
     "text": [
      "\n",
      "protocol: https\n",
      "domain:   codeup\n",
      "tld:      com\n",
      "\n"
     ]
    }
   ],
   "source": [
    "# simplified for demonstration, a real url to parse urls would be much more\n",
    "# complex\n",
    "url_re = r'(https?)://(\\w+)\\.(\\w+)'\n",
    "\n",
    "protocol, domain, tld = re.search(url_re, sentence).groups()\n",
    "\n",
    "print(f'''\n",
    "protocol: {protocol}\n",
    "domain:   {domain}\n",
    "tld:      {tld}\n",
    "''')"
   ]
  },
  {
   "cell_type": "code",
   "execution_count": 206,
   "id": "d1767cbd",
   "metadata": {},
   "outputs": [
    {
     "data": {
      "text/plain": [
       "('https', 'codeup', 'com')"
      ]
     },
     "execution_count": 206,
     "metadata": {},
     "output_type": "execute_result"
    }
   ],
   "source": [
    "re.search(url_re, sentence).groups()"
   ]
  },
  {
   "cell_type": "code",
   "execution_count": 207,
   "id": "a47a6c59",
   "metadata": {},
   "outputs": [],
   "source": [
    "url_re = r'(?P<protocol>https?)://(?P<domain>\\w+)\\.(?P<tld>\\w+)'\n",
    "\n",
    "match = re.search(url_re, sentence)\n"
   ]
  },
  {
   "cell_type": "code",
   "execution_count": 208,
   "id": "0f89e89a",
   "metadata": {},
   "outputs": [
    {
     "data": {
      "text/plain": [
       "('https', 'codeup', 'com')"
      ]
     },
     "execution_count": 208,
     "metadata": {},
     "output_type": "execute_result"
    }
   ],
   "source": [
    "match.groups()"
   ]
  },
  {
   "cell_type": "code",
   "execution_count": 209,
   "id": "905d5d55",
   "metadata": {},
   "outputs": [
    {
     "data": {
      "text/plain": [
       "'codeup'"
      ]
     },
     "execution_count": 209,
     "metadata": {},
     "output_type": "execute_result"
    }
   ],
   "source": [
    "match.group(\"domain\")"
   ]
  },
  {
   "cell_type": "code",
   "execution_count": 210,
   "id": "1562d114",
   "metadata": {},
   "outputs": [
    {
     "data": {
      "text/plain": [
       "'com'"
      ]
     },
     "execution_count": 210,
     "metadata": {},
     "output_type": "execute_result"
    }
   ],
   "source": [
    "match.group(\"tld\")"
   ]
  },
  {
   "cell_type": "code",
   "execution_count": 211,
   "id": "36c4ed51",
   "metadata": {},
   "outputs": [
    {
     "data": {
      "text/plain": [
       "{'protocol': 'https', 'domain': 'codeup', 'tld': 'com'}"
      ]
     },
     "execution_count": 211,
     "metadata": {},
     "output_type": "execute_result"
    }
   ],
   "source": [
    "match.groupdict()"
   ]
  },
  {
   "cell_type": "code",
   "execution_count": 212,
   "id": "bdf206b7",
   "metadata": {},
   "outputs": [
    {
     "name": "stdout",
     "output_type": "stream",
     "text": [
      "\n",
      "groups: ('https', 'codeup', 'com')\n",
      "referencing a group by name: com\n",
      "group dictionary: {'protocol': 'https', 'domain': 'codeup', 'tld': 'com'}\n",
      "\n"
     ]
    }
   ],
   "source": [
    "print(f'''\n",
    "groups: {match.groups()}\n",
    "referencing a group by name: {match.group('tld')}\n",
    "group dictionary: {match.groupdict()}\n",
    "''')"
   ]
  },
  {
   "cell_type": "markdown",
   "id": "5cced33b",
   "metadata": {},
   "source": [
    "## A Reflection on Captured Groups\n",
    "- After matching the first group or two, the need to be _highly_ specific with subsequent groups (unless there is ambiguity in the forms in the source text) likely starts to decrease. \n",
    "- For example, matching an abitrary user agent string in on its own might prove challenging. Specific user agents even more so https://jonlabelle.com/snippets/view/yaml/browser-user-agent-regular-expressions. But if that arbitrary user agent string lives in a line inside a log where to the left we've already matched a group for the method type GET|POST, and the timestamp, then matching any specific user agent string with the cleanest regex ever isn't as necessary, probabilistically, as matching any string up until but not including the bytes transmitted group to its right.\n",
    "- We can sometimes rely on the regularness of forms, especially with multiple captured groups in order to capture much more challenging patterns in the middle of other more easily discerned pattern groups."
   ]
  },
  {
   "cell_type": "code",
   "execution_count": 213,
   "id": "e9ae04ef",
   "metadata": {},
   "outputs": [
    {
     "name": "stdout",
     "output_type": "stream",
     "text": [
      "\n",
      "GET /api/v1/sales?page=86 [16/Apr/2019:193452+0000] HTTP/1.1 {200} 510348 \"python-requests/2.21.0\" 97.105.19.58\n",
      "POST /users_accounts/file-upload [16/Apr/2019:193452+0000] HTTP/1.1 {201} 42 \"User-Agent: Mozilla/5.0 (X11; Fedora; Fedora; Linux x86_64) AppleWebKit/537.36 (KHTML, like Gecko) Chrome/73.0.3683.86 Safari/537.36\" 97.105.19.58\n",
      "GET /api/v1/items?page=3 [16/Apr/2019:193453+0000] HTTP/1.1 {429} 3561 \"python-requests/2.21.0\" 97.105.19.58\n",
      "\n"
     ]
    }
   ],
   "source": [
    "# Consider the following lines in a log\n",
    "logs = \"\"\"\n",
    "GET /api/v1/sales?page=86 [16/Apr/2019:193452+0000] HTTP/1.1 {200} 510348 \"python-requests/2.21.0\" 97.105.19.58\n",
    "POST /users_accounts/file-upload [16/Apr/2019:193452+0000] HTTP/1.1 {201} 42 \"User-Agent: Mozilla/5.0 (X11; Fedora; Fedora; Linux x86_64) AppleWebKit/537.36 (KHTML, like Gecko) Chrome/73.0.3683.86 Safari/537.36\" 97.105.19.58\n",
    "GET /api/v1/items?page=3 [16/Apr/2019:193453+0000] HTTP/1.1 {429} 3561 \"python-requests/2.21.0\" 97.105.19.58\n",
    "\"\"\"\n",
    "print(logs)"
   ]
  },
  {
   "cell_type": "code",
   "execution_count": 214,
   "id": "cca802b8",
   "metadata": {},
   "outputs": [],
   "source": [
    "emails = [\n",
    "    \"jane@company.com\",\n",
    "    \"bob@company.com\",\n",
    "    \"jane.janeway@company.com\",\n",
    "    \"jane.janeway@dogood.org\",\n",
    "#     \"jane.janet.janeway@dogood.org\",\n",
    "#     \"jane.janeway@ang.af.mil\",\n",
    "]"
   ]
  },
  {
   "cell_type": "code",
   "execution_count": 215,
   "id": "4236488b",
   "metadata": {},
   "outputs": [],
   "source": [
    "pattern = re.compile(r\"\"\"\n",
    "(?P<first_name>\\w+)?\n",
    "\\.?\n",
    "(?P<last_name>\\w+)?\n",
    "\\@\n",
    "(?P<domain>\\w+)\n",
    "\\.\n",
    "(?P<tld>\\w+)\n",
    "\"\"\", re.VERBOSE)"
   ]
  },
  {
   "cell_type": "code",
   "execution_count": 216,
   "id": "5ed7172d",
   "metadata": {},
   "outputs": [
    {
     "data": {
      "text/plain": [
       "[{'first_name': 'jane', 'last_name': None, 'domain': 'company', 'tld': 'com'},\n",
       " {'first_name': 'bob', 'last_name': None, 'domain': 'company', 'tld': 'com'},\n",
       " {'first_name': 'jane',\n",
       "  'last_name': 'janeway',\n",
       "  'domain': 'company',\n",
       "  'tld': 'com'},\n",
       " {'first_name': 'jane',\n",
       "  'last_name': 'janeway',\n",
       "  'domain': 'dogood',\n",
       "  'tld': 'org'}]"
      ]
     },
     "execution_count": 216,
     "metadata": {},
     "output_type": "execute_result"
    }
   ],
   "source": [
    "[re.search(pattern, email).groupdict() for email in emails]"
   ]
  },
  {
   "cell_type": "code",
   "execution_count": null,
   "id": "146df5a9",
   "metadata": {},
   "outputs": [],
   "source": []
  }
 ],
 "metadata": {
  "kernelspec": {
   "display_name": "Python 3.9.12 ('base')",
   "language": "python",
   "name": "python3"
  },
  "language_info": {
   "codemirror_mode": {
    "name": "ipython",
    "version": 3
   },
   "file_extension": ".py",
   "mimetype": "text/x-python",
   "name": "python",
   "nbconvert_exporter": "python",
   "pygments_lexer": "ipython3",
   "version": "3.9.12"
  },
  "vscode": {
   "interpreter": {
    "hash": "40d3a090f54c6569ab1632332b64b2c03c39dcf918b08424e98f38b5ae0af88f"
   }
  }
 },
 "nbformat": 4,
 "nbformat_minor": 5
}
